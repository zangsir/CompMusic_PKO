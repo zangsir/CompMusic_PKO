{
 "metadata": {
  "name": ""
 },
 "nbformat": 3,
 "nbformat_minor": 0,
 "worksheets": [
  {
   "cells": [
    {
     "cell_type": "heading",
     "level": 1,
     "metadata": {},
     "source": [
      "Preprocessing for xikao text mining pipeline"
     ]
    },
    {
     "cell_type": "heading",
     "level": 2,
     "metadata": {},
     "source": [
      "extract all banshi names and passages from all files (given individual play script file scraped from xikao.com)"
     ]
    },
    {
     "cell_type": "code",
     "collapsed": false,
     "input": [
      "cd /Users/zangsir/Desktop/xikao-scrape/"
     ],
     "language": "python",
     "metadata": {},
     "outputs": [
      {
       "output_type": "stream",
       "stream": "stdout",
       "text": [
        "/Users/zangsir/Desktop/xikao-scrape\n"
       ]
      }
     ],
     "prompt_number": 3
    },
    {
     "cell_type": "code",
     "collapsed": false,
     "input": [
      "%load extract-banshi.py\n"
     ],
     "language": "python",
     "metadata": {},
     "outputs": [],
     "prompt_number": 6
    },
    {
     "cell_type": "code",
     "collapsed": false,
     "input": [
      "#the extract banshi task is to extract all banshi passages from the complete scripts scraped from xikao.com.\n",
      "#this task was completed using a ipython notebook  \n",
      "#this script extract some of the essential functions from that ipynb, to be a stand alone script to reference or use\n",
      "\n",
      "#f=open('\u4eac\u5267\u5267\u672c-\u300a\u5973\u8d77\u89e3\u300b.txt','r')\n",
      "#text=f.read()\n",
      "\n",
      "#currently use absolute path, so doesn't matter where this is located as long as those path are valid\n",
      "import re,csv\n",
      "import codecs\n",
      "from os import listdir\n",
      "from os.path import isfile, join\n",
      "mypath='/Users/zangsir/Desktop/xikao-scrape/xikao-text/'\n",
      "outputPath='/Users/zangsir/Desktop/xikao-scrape/xikao_bs2/'\n",
      "onlyfiles = [ f for f in listdir(mypath) if f.endswith(\".txt\") ]\n",
      "\n",
      "\n",
      "\n",
      "#compile BAN) pattern , sb holds all symbols we can look for\n",
      "pat_ban=re.compile(ur'\\u677f\\uff09')\n",
      "#compile symbols pattern\n",
      "pat_sb_all=re.compile(ur'[.\\u201c\\u201d\\u2026\\u250a\\u3000\\u3001\\u3002\\u300a\\u300b\\u3010\\u3011\\uff01\\uff08\\uff09\\uff0c\\uff1a\\uff1b\\uff1f]')\n",
      "pat_sb=re.compile(ur'[.,\\u3001\\u3002\\uff01\\uff0c\\uff1a\\uff1b\\uff1f\\uff08\\u2026\\u2014]')\n",
      "\n",
      "\n",
      "\n",
      "############################## ############################## Function Defs\n",
      "def findRightBound(textseg,startpos_abs,ws_positions):\n",
      "    '''recursively find the right boundary of a banshi passage'''\n",
      "    a=re.search(pat_sb,textseg)\n",
      "    first_symbol=a.start()\n",
      "    first_symbol_abs=first_symbol+startpos_abs + 1\n",
      "    if first_symbol_abs in ws_positions:\n",
      "        startpos_sub=first_symbol+14\n",
      "        startpos_abs=startpos_abs+first_symbol+14\n",
      "        textsegnew=textseg[startpos_sub:]\n",
      "        return findRightBound(textsegnew,startpos_abs,ws_positions)\n",
      "    return first_symbol_abs-1\n",
      "        \n",
      "\n",
      "def findBanshiNameStart(text,startban):\n",
      "    \"\"\" given the starting position of BAN), find the name of this ban by finding the matching parenthesis preceding this \"\"\"\n",
      "    #u'\\uff08' is ( for chinese characters\n",
      "    match_pos=startban-2\n",
      "    while text[match_pos]!=u'\\uff08':\n",
      "        match_pos=match_pos-1\n",
      "    return match_pos\n",
      "\n",
      "def extractPassage(test):\n",
      "    '''this is main function for extracting a passage of banshi, given only a piece of text. first finds the left boundary by RE, and then find right boundary by calling findRightBound()'''\n",
      "    #compile 13ws pattern, get all starting positions in a list\n",
      "    #NOTICE this has to be defined according to the current dataset, such as test, or a doc, text_dec\n",
      "    ws_positions=[]\n",
      "    pat_ws=re.compile(ur'\\u3000\\u3000\\u3000\\u3000\\u3000\\u3000\\u3000\\u3000\\u3000\\u3000\\u3000\\u3000\\u3000')\n",
      "    for m in pat_ws.finditer(test):\n",
      "        ws_positions.append(m.start())\n",
      "    #print 'wspos', ws_positions\n",
      "    all_start=[]\n",
      "    all_end=[]\n",
      "    for m in pat_ban.finditer(test):\n",
      "        #print m.start(),m.group()\n",
      "        #for each position of m.start(), search for the first symbol after this position\n",
      "        start_banshi=m.start()\n",
      "        start_banshi_name=findBanshiNameStart(test,start_banshi)\n",
      "        all_start.append(start_banshi_name)\n",
      "        #print \"start\",start_banshi\n",
      "        right_bound=findRightBound(test[start_banshi:],start_banshi,ws_positions)\n",
      "        #print \"RIGHT\",right_bound\n",
      "        all_end.append(right_bound)\n",
      "    #print \"start:\",all_start\n",
      "    #print \"end:\",all_end\n",
      "    return all_start,all_end"
     ],
     "language": "python",
     "metadata": {},
     "outputs": [],
     "prompt_number": 9
    },
    {
     "cell_type": "code",
     "collapsed": false,
     "input": [],
     "language": "python",
     "metadata": {},
     "outputs": []
    },
    {
     "cell_type": "code",
     "collapsed": false,
     "input": [
      "############################## ############################## Main Usage\n",
      "#this will write extracted banshi passages for each play to txt files in specified directory\n",
      "\n",
      "for fileName in onlyfiles:\n",
      "    #process one document\n",
      "    f=open(mypath+fileName,'r')\n",
      "    text=f.read()\n",
      "    outputName=outputPath+\"bs_\" + fileName\n",
      "    with open(outputName,\"w\") as f:\n",
      "        writer=csv.writer(f)\n",
      "    #decode\n",
      "    text_dec=codecs.decode(text,'utf-8')\n",
      "    #this returns two lists, with starting_index list and a ending_index list\n",
      "    starts,ends=extractPassage(text_dec)\n",
      "    if len(starts)==len(ends):\n",
      "        try:\n",
      "            for i in range(len(starts)):\n",
      "                passage=text_dec[starts[i]:ends[i]]\n",
      "                #strip the passage's whitespace \\u3000\n",
      "                passage_nw=re.sub(ur'\\u3000',\"\",passage)\n",
      "                #write to file, which in the end will contain only all banshi passages in the current doc\n",
      "                with open(outputName, \"a\") as myfile:\n",
      "                    myfile.write(passage_nw.encode('utf-8'))\n",
      "                    myfile.write('\\n')\n",
      "        except:\n",
      "            print \"starts and ends lists have different length, error\""
     ],
     "language": "python",
     "metadata": {},
     "outputs": [],
     "prompt_number": 13
    },
    {
     "cell_type": "heading",
     "level": 2,
     "metadata": {},
     "source": [
      "Concatenate all banshi files into one corpus file"
     ]
    },
    {
     "cell_type": "code",
     "collapsed": false,
     "input": [],
     "language": "python",
     "metadata": {},
     "outputs": []
    },
    {
     "cell_type": "code",
     "collapsed": false,
     "input": [
      "cd /Users/zangsir/Desktop/xikao-scrape/xikao_bs/"
     ],
     "language": "python",
     "metadata": {},
     "outputs": [
      {
       "output_type": "stream",
       "stream": "stdout",
       "text": [
        "/Users/zangsir/Desktop/xikao-scrape/xikao_bs\n"
       ]
      }
     ],
     "prompt_number": 14
    },
    {
     "cell_type": "code",
     "collapsed": false,
     "input": [],
     "language": "python",
     "metadata": {},
     "outputs": []
    },
    {
     "cell_type": "code",
     "collapsed": false,
     "input": [
      "import shutil,glob"
     ],
     "language": "python",
     "metadata": {},
     "outputs": [],
     "prompt_number": 15
    },
    {
     "cell_type": "code",
     "collapsed": false,
     "input": [],
     "language": "python",
     "metadata": {},
     "outputs": []
    },
    {
     "cell_type": "code",
     "collapsed": false,
     "input": [
      "outfilename='xikao-bs-all2.txt'\n",
      "\n",
      "with open(outfilename, 'wb') as outfile:\n",
      "    for filename in glob.glob('*.txt'):\n",
      "        if filename == outfilename:\n",
      "            # don't want to copy the output into the output\n",
      "            continue\n",
      "        with open(filename, 'rb') as readfile:\n",
      "            shutil.copyfileobj(readfile, outfile)"
     ],
     "language": "python",
     "metadata": {},
     "outputs": [],
     "prompt_number": 16
    },
    {
     "cell_type": "heading",
     "level": 2,
     "metadata": {},
     "source": [
      "next: take the concatenated file and segment it using the Chinese segmenter"
     ]
    },
    {
     "cell_type": "raw",
     "metadata": {},
     "source": [
      "//Usage of Stanford Segmenter tool on command line\n",
      "Unix: \n",
      "> segment.sh [-k] [ctb|pku] <filename> <encoding> <size>\n",
      "  ctb : Chinese Treebank\n",
      "  pku : Beijing Univ.\n",
      "\n",
      "filename: The file you want to segment. Each line is a sentence.\n",
      "encoding: UTF-8, GB18030, etc. \n",
      "(This must be a character encoding name known by Java)\n",
      "size: size of the n-best list (just put '0' to print the best hypothesis\n",
      "without probabilities).\n",
      "-k: keep all white spaces in the input\n",
      "\n",
      "//Demo\n",
      "$ ./segment.sh ctb test.simp.utf8 UTF-8 2 >>trynew.txt\n",
      "$ ./segment.sh ctb xikao-bs-all.txt UTF-8 0 >>xikao-seg-new.txt"
     ]
    },
    {
     "cell_type": "heading",
     "level": 2,
     "metadata": {},
     "source": [
      "boilerplate for loading and decoding file"
     ]
    },
    {
     "cell_type": "code",
     "collapsed": false,
     "input": [
      "\n",
      "import re,codecs\n",
      "f=open('/Users/zangsir/Desktop/xikao-scrape/xikao-seg-new.txt','r')\n",
      "text_xk=f.read()\n",
      "text_dec=codecs.decode(text_xk,'utf-8')"
     ],
     "language": "python",
     "metadata": {},
     "outputs": [],
     "prompt_number": 18
    },
    {
     "cell_type": "code",
     "collapsed": false,
     "input": [],
     "language": "python",
     "metadata": {},
     "outputs": []
    },
    {
     "cell_type": "heading",
     "level": 2,
     "metadata": {},
     "source": [
      "treat all banshi names to be one token by removing whitespace"
     ]
    },
    {
     "cell_type": "code",
     "collapsed": false,
     "input": [
      "%load xk-preproc.py"
     ],
     "language": "python",
     "metadata": {},
     "outputs": [],
     "prompt_number": 5
    },
    {
     "cell_type": "code",
     "collapsed": false,
     "input": [
      "#this module has functions that preprocess the text for corpus of text mining\n",
      "#complete trace of dev is in gensim-nltk.ipynb\n",
      "\n",
      "def cleanBanshiName(text):\n",
      "    '''this method takes the segmented Chinese text and put banshi names as one token w/o any whitespaces'''\n",
      "    a=re.findall(ur'(\\uff08.*?\\uff09)',text)\n",
      "    seta=set(a)\n",
      "    for pat in seta:\n",
      "        rep=pat.replace(\" \",\"\")\n",
      "        text=text.replace(pat,rep)\n",
      "    return text"
     ],
     "language": "python",
     "metadata": {},
     "outputs": [],
     "prompt_number": 19
    },
    {
     "cell_type": "code",
     "collapsed": false,
     "input": [
      "# to clean the presegmented text and then save it\n",
      "t_new=cleanBanshiName(text_dec)\n",
      "f=open('/Users/zangsir/Desktop/xikao-scrape/xk-seg-cln.txt','w')\n",
      "f.write(t_new.encode('utf-8'))"
     ],
     "language": "python",
     "metadata": {},
     "outputs": [],
     "prompt_number": 22
    },
    {
     "cell_type": "code",
     "collapsed": false,
     "input": [],
     "language": "python",
     "metadata": {},
     "outputs": []
    },
    {
     "cell_type": "heading",
     "level": 2,
     "metadata": {},
     "source": [
      "remove all puncuations in unicode"
     ]
    },
    {
     "cell_type": "code",
     "collapsed": false,
     "input": [
      "pat_sbb=re.compile(ur'[\\uff0c\\u3002\\uff01\\uff1f\\uff1a\\u3001\\uff1b\\u2026\\u2014]')\n",
      "text_nop=re.sub(pat_sbb,' ',t_new)\n",
      "#write the cleaned no punctuation text to file\n",
      "f=open('/Users/zangsir/Desktop/xikao-scrape/xk-seg-cln-nop.txt','w')\n",
      "f.write(text_nop.encode('utf-8'))"
     ],
     "language": "python",
     "metadata": {},
     "outputs": [],
     "prompt_number": 30
    },
    {
     "cell_type": "code",
     "collapsed": false,
     "input": [],
     "language": "python",
     "metadata": {},
     "outputs": []
    },
    {
     "cell_type": "code",
     "collapsed": false,
     "input": [
      "#text_nop is equivalent to file 'xk-seg-cln-nop.txt'"
     ],
     "language": "python",
     "metadata": {},
     "outputs": [],
     "prompt_number": 28
    },
    {
     "cell_type": "code",
     "collapsed": false,
     "input": [
      "print text_nop[:100]"
     ],
     "language": "python",
     "metadata": {},
     "outputs": [
      {
       "output_type": "stream",
       "stream": "stdout",
       "text": [
        "\uff08\u5185\u4e8c\u9ec4\u5bfc\u677f\uff09 \u91d1 \u4e4c \u5760 \u7389\u5154 \u5347 \u9ec4\u660f \u65f6\u5019\n",
        "\uff08\u897f\u76ae\u6447\u677f\uff09 \u542c\u8bf4 \u53cd \u4e86 \u9676 \u4e09 \u6625   \u5413 \u5f97 \u5b64\u4e09\u9b42\u5c11 \u4e8c \u9b42   \u56de\u5934 \u4fbf \u628a \u5fa1\u4eb2 \u53eb   \u5f1f\u59b9 \u4eba\u9a6c \u4f60 \u62c5\u627f\n",
        "\uff08\u6570\u677f\uff09 \u8d77 \u5357\u6765 \u4e86 \u4e00\n"
       ]
      }
     ],
     "prompt_number": 29
    },
    {
     "cell_type": "heading",
     "level": 2,
     "metadata": {},
     "source": [
      "add comma to this txt file and process as csv (done manually in text editor)"
     ]
    },
    {
     "cell_type": "heading",
     "level": 2,
     "metadata": {},
     "source": [
      "load the csv file and try to get statistics about banshi"
     ]
    },
    {
     "cell_type": "code",
     "collapsed": false,
     "input": [
      "#first check if this csv is legit\n",
      "#this will print out any lines with more than 2 columns\n",
      "from collections import defaultdict\n",
      "import csv\n",
      "\n",
      "per_label = defaultdict(list)\n",
      "\n",
      "inputfilename=\"/Users/zangsir/Desktop/xikao-scrape/xk-seg-cln-nop.csv\"\n",
      "\n",
      "\n",
      "with open(inputfilename, 'rU') as inputfile:\n",
      "    reader = csv.reader(inputfile)\n",
      "    for row in reader:\n",
      "        if len(row)!=2:\n",
      "            print 'len=',len(row)\n",
      "            for i in row:print i\n",
      "                \n",
      "print 'finished...'"
     ],
     "language": "python",
     "metadata": {},
     "outputs": [
      {
       "output_type": "stream",
       "stream": "stdout",
       "text": [
        "finished...\n"
       ]
      }
     ],
     "prompt_number": 186
    },
    {
     "cell_type": "code",
     "collapsed": false,
     "input": [],
     "language": "python",
     "metadata": {},
     "outputs": []
    },
    {
     "cell_type": "heading",
     "level": 3,
     "metadata": {},
     "source": [
      "statistics of banshi by #of documents"
     ]
    },
    {
     "cell_type": "code",
     "collapsed": false,
     "input": [
      "with open(inputfilename, 'rU') as inputfile:\n",
      "    reader = csv.reader(inputfile)\n",
      "    # skip the header row\n",
      "    #next(reader, None)  \n",
      "\n",
      "    for banshi,lyrics in reader:\n",
      "        bsdec=codecs.decode(banshi,'utf-8')\n",
      "        lydec=codecs.decode(lyrics,'utf-8')\n",
      "        per_label[bsdec].append([lydec])"
     ],
     "language": "python",
     "metadata": {},
     "outputs": [],
     "prompt_number": 187
    },
    {
     "cell_type": "code",
     "collapsed": false,
     "input": [],
     "language": "python",
     "metadata": {},
     "outputs": []
    },
    {
     "cell_type": "code",
     "collapsed": false,
     "input": [
      "len(per_label)"
     ],
     "language": "python",
     "metadata": {},
     "outputs": [
      {
       "metadata": {},
       "output_type": "pyout",
       "prompt_number": 188,
       "text": [
        "151"
       ]
      }
     ],
     "prompt_number": 188
    },
    {
     "cell_type": "code",
     "collapsed": false,
     "input": [],
     "language": "python",
     "metadata": {},
     "outputs": []
    },
    {
     "cell_type": "code",
     "collapsed": false,
     "input": [
      "#put this statistics into a dictionary\n",
      "stats={}\n",
      "for k in per_label:\n",
      "    stats[k]=len(per_label[k])"
     ],
     "language": "python",
     "metadata": {},
     "outputs": [],
     "prompt_number": 190
    },
    {
     "cell_type": "code",
     "collapsed": false,
     "input": [],
     "language": "python",
     "metadata": {},
     "outputs": []
    },
    {
     "cell_type": "code",
     "collapsed": false,
     "input": [
      "def outputKbv(d):\n",
      "    '''prints out the keys sorted by value from max to min'''\n",
      "    d_view = [ (v,k) for k,v in d.iteritems() ]\n",
      "    d_view.sort(reverse=True) # natively sort tuples by first element\n",
      "    for v,k in d_view:\n",
      "        print \"%s: %d\" % (k,v)"
     ],
     "language": "python",
     "metadata": {},
     "outputs": [],
     "prompt_number": 191
    },
    {
     "cell_type": "code",
     "collapsed": false,
     "input": [],
     "language": "python",
     "metadata": {},
     "outputs": []
    },
    {
     "cell_type": "code",
     "collapsed": false,
     "input": [
      "#this is the number of documents statistics for the banshi passages/docs, where one documents is a consecutive passage of \n",
      "#of a single banshi\n",
      "outputKbv(stats)"
     ],
     "language": "python",
     "metadata": {},
     "outputs": [
      {
       "output_type": "stream",
       "stream": "stdout",
       "text": [
        "\uff08\u897f\u76ae\u6447\u677f\uff09: 5446\n",
        "\uff08\u897f\u76ae\u6563\u677f\uff09: 2305\n",
        "\uff08\u4e8c\u9ec4\u6447\u677f\uff09: 1368\n",
        "\uff08\u897f\u76ae\u539f\u677f\uff09: 1245\n",
        "\uff08\u897f\u76ae\u5feb\u677f\uff09: 1244\n",
        "\uff08\u4e8c\u9ec4\u539f\u677f\uff09: 814\n",
        "\uff08\u4e8c\u9ec4\u6563\u677f\uff09: 651\n",
        "\uff08\u897f\u76ae\u6d41\u6c34\u677f\uff09: 577\n",
        "\uff08\u897f\u76ae\u5bfc\u677f\uff09: 363\n",
        "\uff08\u897f\u76ae\u6162\u677f\uff09: 330\n",
        "\uff08\u897f\u76ae\u4e8c\u516d\u677f\uff09: 318\n",
        "\uff08\u5185\u897f\u76ae\u5bfc\u677f\uff09: 298\n",
        "\uff08\u4e8c\u9ec4\u5bfc\u677f\uff09: 146\n",
        "\uff08\u6570\u677f\uff09: 138\n",
        "\uff08\u4e8c\u9ec4\u6162\u677f\uff09: 138\n",
        "\uff08\u4e8c\u9ec4\u5e73\u677f\uff09: 131\n",
        "\uff08\u5185\u4e8c\u9ec4\u5bfc\u677f\uff09: 88\n",
        "\uff08\u540c\u897f\u76ae\u6447\u677f\uff09: 83\n",
        "\uff08\u6886\u5b50\u539f\u677f\uff09: 64\n",
        "\uff08\u9ad8\u62e8\u5b50\u6447\u677f\uff09: 61\n",
        "\uff08\u53cd\u4e8c\u9ec4\u6162\u677f\uff09: 51\n",
        "\uff08\u540c\u897f\u76ae\u6563\u677f\uff09: 41\n",
        "\uff08\u53cd\u4e8c\u9ec4\u539f\u677f\uff09: 41\n",
        "\uff08\u54ed\u677f\uff09: 39\n",
        "\uff08\u897f\u76ae\u5feb\u4e8c\u516d\u677f\uff09: 37\n",
        "\uff08\u897f\u76ae\u6b63\u677f\uff09: 36\n",
        "\uff08\u53cd\u4e8c\u9ec4\u6563\u677f\uff09: 23\n",
        "\uff08\u897f\u76ae\u5c0f\u5bfc\u677f\uff09: 22\n",
        "\uff08\u540c\u4e8c\u9ec4\u6447\u677f\uff09: 21\n",
        "\uff08\u53cd\u897f\u76ae\u4e8c\u516d\u677f\uff09: 21\n",
        "\uff08\u897f\u76ae\u579b\u677f\uff09: 20\n",
        "\uff08\u9ad8\u62e8\u5b50\u539f\u677f\uff09: 19\n",
        "\uff08\u5522\u5450\u4e8c\u9ec4\u539f\u677f\uff09: 19\n",
        "\uff08\u5522\u5450\u4e8c\u9ec4\u6563\u677f\uff09: 16\n",
        "\uff08\u9ad8\u62e8\u5b50\u6563\u677f\uff09: 15\n",
        "\uff08\u897f\u76ae\u7d27\u677f\uff09: 15\n",
        "\uff08\u4e8c\u9ec4\u78b0\u677f\uff09: 13\n",
        "\uff08\u53cd\u4e8c\u9ec4\u6447\u677f\uff09: 12\n",
        "\uff08\u4e8c\u9ec4\u6b63\u677f\uff09: 12\n",
        "\uff08\u53cd\u897f\u76ae\u6563\u677f\uff09: 11\n",
        "\uff08\u4e8c\u9ec4\u579b\u677f\uff09: 11\n",
        "\uff08\u9ad8\u62e8\u5b50\u579b\u677f\uff09: 9\n",
        "\uff08\u4e8c\u9ec4\u9876\u677f\uff09: 9\n",
        "\uff08\u897f\u76ae\u54ed\u677f\uff09: 8\n",
        "\uff08\u6886\u5b50\u6162\u677f\uff09: 8\n",
        "\uff08\u5357\u6886\u5b50\u539f\u677f\uff09: 8\n",
        "\uff08\u9ad8\u62e8\u5b50\u9876\u677f\uff09: 7\n",
        "\uff08\u5439\u8154\u6162\u677f\uff09: 7\n",
        "\uff08\u540c\u897f\u76ae\u539f\u677f\uff09: 7\n",
        "\uff08\u5357\u6886\u5b50\u6162\u677f\uff09: 7\n",
        "\uff08\u897f\u76ae\u6eda\u677f\uff09: 6\n",
        "\uff08\u6886\u5b50\u4e71\u5bfc\u677f\uff09: 6\n",
        "\uff08\u53cd\u897f\u76ae\u6447\u677f\uff09: 6\n",
        "\uff08\u5185\u5357\u6886\u5b50\u5bfc\u677f\uff09: 6\n",
        "\uff08\u897f\u76ae\u6162\u6d41\u6c34\u677f\uff09: 5\n",
        "\uff08\u6886\u5b50\u4e8c\u516d\u677f\uff09: 5\n",
        "\uff08\u6162\u897f\u76ae\u4e8c\u516d\u677f\uff09: 5\n",
        "\uff08\u5522\u5450\u4e8c\u9ec4\u5bfc\u677f\uff09: 5\n",
        "\uff08\u53cd\u4e8c\u9ec4\u6b63\u677f\uff09: 5\n",
        "\uff08\u5185\u9ad8\u62e8\u5b50\u5bfc\u677f\uff09: 5\n",
        "\uff08\u897f\u76ae\u9876\u677f\uff09: 4\n",
        "\uff08\u897f\u76ae\u9501\u677f\uff09: 4\n",
        "\uff08\u6886\u5b50\u5feb\u677f\uff09: 4\n",
        "\uff08\u6886\u5b50\u5bfc\u677f\uff09: 4\n",
        "\uff08\u5feb\u897f\u76ae\u6447\u677f\uff09: 4\n",
        "\uff08\u5522\u5450\u4e8c\u9ec4\u6162\u677f\uff09: 4\n",
        "\uff08\u540c\u897f\u76ae\u6d41\u6c34\u677f\uff09: 4\n",
        "\uff08\u540c\u897f\u76ae\u5bfc\u677f\uff09: 4\n",
        "\uff08\u540c\u4e8c\u9ec4\u539f\u677f\uff09: 4\n",
        "\uff08\u5357\u6886\u5b50\u5bfc\u677f\uff09: 4\n",
        "\uff08\u5185\u5522\u5450\u4e8c\u9ec4\u5bfc\u677f\uff09: 4\n",
        "\uff08\u9ad8\u62e8\u5b50\u5bfc\u677f\uff09: 3\n",
        "\uff08\u897f\u76ae\u6416\u677f\uff09: 3\n",
        "\uff08\u897f\u76ae\u5c0f\u5feb\u677f\uff09: 3\n",
        "\uff08\u6886\u5b50\u6309\u677f\uff09: 3\n",
        "\uff08\u6885\u82b1\u677f\uff09: 3\n",
        "\uff08\u540c\u4e8c\u9ec4\u6563\u677f\uff09: 3\n",
        "\uff08\u5185\u6886\u5b50\u5bfc\u677f\uff09: 3\n",
        "\uff08\u5185\u540c\u897f\u76ae\u6447\u677f\uff09: 3\n",
        "\uff08\u5185\u4e8c\u9ec4\u6563\u677f\uff09: 3\n",
        "\uff08\u5185\u4e8c\u9ec4\u6447\u677f\uff09: 3\n",
        "\uff08\u897f\u76ae\u5feb\u539f\u677f\uff09: 2\n",
        "\uff08\u897f\u76ae\u5c0f\u6162\u677f\uff09: 2\n",
        "\uff08\u897f\u76ae\u4e09\u773c\u677f\uff09: 2\n",
        "\uff08\u6c49\u8c03\u539f\u677f\uff09: 2\n",
        "\uff08\u6886\u5b50\u7d22\u677f\uff09: 2\n",
        "\uff08\u6886\u5b50\u6447\u677f\uff09: 2\n",
        "\uff08\u5feb\u897f\u76ae\u4e8c\u516d\u677f\uff09: 2\n",
        "\uff08\u5e72\u677f\uff09: 2\n",
        "\uff08\u5522\u5450\u4e8c\u9ec4\u6b63\u677f\uff09: 2\n",
        "\uff08\u540c\u897f\u76ae\u6162\u677f\uff09: 2\n",
        "\uff08\u540c\u897f\u76ae\u5feb\u677f\uff09: 2\n",
        "\uff08\u540c\u6885\u82b1\u677f\uff09: 2\n",
        "\uff08\u540c\u6570\u677f\uff09: 2\n",
        "\uff08\u53eb\u677f\uff09: 2\n",
        "\uff08\u5357\u6886\u5b50\u6447\u677f\uff09: 2\n",
        "\uff08\u5185\u897f\u76ae\u5c0f\u5bfc\u677f\uff09: 2\n",
        "\uff08\u4e8c\u9ec4\u4e8c\u516d\u677f\uff09: 2\n",
        "\uff08\u4e71\u897f\u76ae\u5bfc\u677f\uff09: 2\n",
        "\uff08\u9ad8\u62e8\u5b50\u78b0\u677f\uff09: 1\n",
        "\uff08\u9ad8\u62e8\u5b50\u6d41\u6c34\u677f\uff09: 1\n",
        "\uff08\u9ad8\u62e8\u5b50\u4e8c\u516d\u677f\uff09: 1\n",
        "\uff08\u9876\u677f\u539f\u677f\uff09: 1\n",
        "\uff08\u9501\u5450\u4e8c\u9ec4\u6162\u677f\uff09: 1\n",
        "\uff08\u897f\u7d27\u6447\u677f\uff09: 1\n",
        "\uff08\u897f\u76ae\u8fc7\u677f\uff09: 1\n",
        "\uff08\u897f\u76ae\u8dfa\u677f\uff09: 1\n",
        "\uff08\u897f\u76ae\u6b63\u677f\u4e0a\u6e05\u677f\uff09: 1\n",
        "\uff08\u897f\u76ae\u63a5\u677f\uff09: 1\n",
        "\uff08\u897f\u76ae\u6162\u539f\u677f\uff09: 1\n",
        "\uff08\u897f\u76ae\u5feb\u6d41\u6c34\u677f\uff09: 1\n",
        "\uff08\u897f\u76ae\u5a03\u5a03\u8c03\u539f\u677f\uff09: 1\n",
        "\uff08\u897f\u76ae\u579b\u677f\u6d41\u6c34\u677f\uff09: 1\n",
        "\uff08\u897f\u76ae\u5012\u677f\uff09: 1\n",
        "\uff08\u82b1\u6886\u5b50\u539f\u677f\uff09: 1\n",
        "\uff08\u78b0\u677f\u4e8c\u9ec4\u539f\u677f\uff09: 1\n",
        "\uff08\u6886\u5b50\u6d41\u6c34\u677f\uff09: 1\n",
        "\uff08\u6886\u5b50\u5feb\u539f\u677f\uff09: 1\n",
        "\uff08\u6886\u5b50\u54ed\u677f\uff09: 1\n",
        "\uff08\u6886\u5b50\u53cc\u5bfc\u677f\uff09: 1\n",
        "\uff08\u6563\u677f\uff09: 1\n",
        "\uff08\u6162\u897f\u76ae\u6447\u677f\uff09: 1\n",
        "\uff08\u579b\u677f\uff09: 1\n",
        "\uff08\u5522\u5450\u897f\u76ae\u5bfc\u677f\uff09: 1\n",
        "\uff08\u540c\u9ad8\u62e8\u5b50\u5bfc\u677f\uff09: 1\n",
        "\uff08\u540c\u897f\u76ae\u4e8c\u516d\u677f\uff09: 1\n",
        "\uff08\u540c\u6886\u5b50\u539f\u677f\uff09: 1\n",
        "\uff08\u540c\u6563\u897f\u76ae\u677f\uff09: 1\n",
        "\uff08\u540c\u54ed\u677f\uff09: 1\n",
        "\uff08\u540c\u4e8c\u9ec4\u6b63\u677f\uff09: 1\n",
        "\uff08\u540c\u4e8c\u9ec4\u5bfc\u677f\uff09: 1\n",
        "\uff08\u53cd\u897f\u76ae\u5feb\u677f\uff09: 1\n",
        "\uff08\u53cd\u4e8c\u9ec4\u5feb\u677f\uff09: 1\n",
        "\uff08\u53cd\u4e8c\u9ec4\u5bfc\u677f\uff09: 1\n",
        "\uff08\u53cc\u897f\u76ae\u5bfc\u677f\uff09: 1\n",
        "\uff08\u539f\u677f\uff09: 1\n",
        "\uff08\u5185\u9501\u5450\u4e8c\u9ec4\u5bfc\u677f\uff09: 1\n",
        "\uff08\u5185\u897f\u76ae\u6563\u677f\uff09: 1\n",
        "\uff08\u5185\u53cd\u4e8c\u9ec4\u5bfc\u677f\uff09: 1\n",
        "\uff08\u5185\u4e8c\u9ec4\u5f02\u677f\uff09: 1\n",
        "\uff08\u5185\u4e8c\u9ec4\u5e73\u677f\uff09: 1\n",
        "\uff08\u5185\u4e8c\u9ec4\u5c0f\u5bfc\u677f\uff09: 1\n",
        "\uff08\u5185\u4e8c\u9ec4\u539f\u677f\uff09: 1\n",
        "\uff08\u5167\u897f\u76ae\u5bfc\u677f\uff09: 1\n",
        "\uff08\u5167\u4e8c\u9ec4\u5bfc\u677f\uff09: 1\n",
        "\uff08\u4e8c\u9ec4\u6eda\u677f\uff09: 1\n",
        "\uff08\u4e8c\u9ec4\u5feb\u677f\uff09: 1\n",
        "\uff08\u4e8c\u9ec4\u5c0f\u5bfc\u677f\uff09: 1\n",
        "\uff08\u4e8c\u9ec4\u53e0\u677f\uff09: 1\n",
        "\uff08\u4e8c\u9ec4\u4e09\u773c\u677f\uff09: 1\n",
        "\uff08\u4e09\u53eb\u5934\u54ed\u677f\uff09: 1\n"
       ]
      }
     ],
     "prompt_number": 193
    },
    {
     "cell_type": "code",
     "collapsed": false,
     "input": [],
     "language": "python",
     "metadata": {},
     "outputs": []
    },
    {
     "cell_type": "code",
     "collapsed": false,
     "input": [
      "import pylab as pl\n",
      "import numpy as np\n",
      "%matplotlib inline\n",
      "\n",
      "#plot a histgram from the dictionary\n",
      "#d = {'CLOVER':4,'SPADE':6,'DIAMOND':7,'HEART':2}\n",
      "def plotFD(d):\n",
      "    X = np.arange(len(d))\n",
      "    pl.bar(X, d.values(), align='center')\n",
      "    pl.xticks(X, d.keys())\n",
      "    ymax = max(d.values()) + 1\n",
      "    pl.ylim(0, ymax)\n",
      "    #pl.show()\n",
      "    #pl.savefig('Fig1.png')\n"
     ],
     "language": "python",
     "metadata": {},
     "outputs": [],
     "prompt_number": 225
    },
    {
     "cell_type": "code",
     "collapsed": false,
     "input": [],
     "language": "python",
     "metadata": {},
     "outputs": []
    },
    {
     "cell_type": "code",
     "collapsed": false,
     "input": [
      "#demo\n",
      "d = {'CLOVER':4,'SPADE':6,'DIAMOND':7,'HEART':2}"
     ],
     "language": "python",
     "metadata": {},
     "outputs": [],
     "prompt_number": 195
    },
    {
     "cell_type": "code",
     "collapsed": false,
     "input": [
      "plotFD(d)"
     ],
     "language": "python",
     "metadata": {},
     "outputs": [
      {
       "metadata": {},
       "output_type": "display_data",
       "png": "[encoded data removed]",
       "text": [
        "<matplotlib.figure.Figure at 0x10549a9d0>"
       ]
      }
     ],
     "prompt_number": 196
    },
    {
     "cell_type": "code",
     "collapsed": false,
     "input": [],
     "language": "python",
     "metadata": {},
     "outputs": []
    },
    {
     "cell_type": "code",
     "collapsed": false,
     "input": [
      "#everything\n",
      "plotFD(stats)"
     ],
     "language": "python",
     "metadata": {},
     "outputs": [
      {
       "metadata": {},
       "output_type": "display_data",
       "png": "[encoded data removed]",
       "text": [
        "<matplotlib.figure.Figure at 0x1054ba710>"
       ]
      }
     ],
     "prompt_number": 197
    },
    {
     "cell_type": "code",
     "collapsed": false,
     "input": [
      "#option to plot those that are N docs and over, specify N in the statement 'value > N'\n",
      "newstats = { key:value for key, value in stats.items() if value > 0 }\n",
      "print len(newdic)"
     ],
     "language": "python",
     "metadata": {},
     "outputs": [
      {
       "output_type": "stream",
       "stream": "stdout",
       "text": [
        "41\n"
       ]
      }
     ],
     "prompt_number": 218
    },
    {
     "cell_type": "code",
     "collapsed": false,
     "input": [],
     "language": "python",
     "metadata": {},
     "outputs": []
    },
    {
     "cell_type": "code",
     "collapsed": false,
     "input": [
      "#seems like the best option is still to codify the banshi names using ascii characters.\n",
      "for i in stats:print i,"
     ],
     "language": "python",
     "metadata": {},
     "outputs": [
      {
       "output_type": "stream",
       "stream": "stdout",
       "text": [
        "\uff08\u4e8c\u9ec4\u539f\u677f\uff09 \uff08\u6886\u5b50\u6d41\u6c34\u677f\uff09 \uff08\u9ad8\u62e8\u5b50\u4e8c\u516d\u677f\uff09 \uff08\u4e8c\u9ec4\u5bfc\u677f\uff09 \uff08\u5185\u4e8c\u9ec4\u6447\u677f\uff09 \uff08\u4e8c\u9ec4\u6563\u677f\uff09 \uff08\u5185\u4e8c\u9ec4\u6563\u677f\uff09 \uff08\u53cd\u4e8c\u9ec4\u6b63\u677f\uff09 \uff08\u6886\u5b50\u6447\u677f\uff09 \uff08\u5185\u9ad8\u62e8\u5b50\u5bfc\u677f\uff09 \uff08\u9ad8\u62e8\u5b50\u5bfc\u677f\uff09 \uff08\u4e8c\u9ec4\u9876\u677f\uff09 \uff08\u540c\u897f\u76ae\u4e8c\u516d\u677f\uff09 \uff08\u897f\u76ae\u6416\u677f\uff09 \uff08\u897f\u76ae\u5c0f\u5bfc\u677f\uff09 \uff08\u5357\u6886\u5b50\u6162\u677f\uff09 \uff08\u5522\u5450\u4e8c\u9ec4\u6162\u677f\uff09 \uff08\u54ed\u677f\uff09 \uff08\u579b\u677f\uff09 \uff08\u5feb\u897f\u76ae\u4e8c\u516d\u677f\uff09 \uff08\u5185\u53cd\u4e8c\u9ec4\u5bfc\u677f\uff09 \uff08\u6886\u5b50\u5feb\u539f\u677f\uff09 \uff08\u6c49\u8c03\u539f\u677f\uff09 \uff08\u540c\u6563\u897f\u76ae\u677f\uff09 \uff08\u897f\u76ae\u5feb\u677f\uff09 \uff08\u897f\u76ae\u4e8c\u516d\u677f\uff09 \uff08\u53cd\u897f\u76ae\u6563\u677f\uff09 \uff08\u5185\u897f\u76ae\u5c0f\u5bfc\u677f\uff09 \uff08\u82b1\u6886\u5b50\u539f\u677f\uff09 \uff08\u4e8c\u9ec4\u6b63\u677f\uff09 \uff08\u6886\u5b50\u6309\u677f\uff09 \uff08\u53cc\u897f\u76ae\u5bfc\u677f\uff09 \uff08\u53cd\u4e8c\u9ec4\u6447\u677f\uff09 \uff08\u6563\u677f\uff09 \uff08\u4e8c\u9ec4\u4e09\u773c\u677f\uff09 \uff08\u6885\u82b1\u677f\uff09 \uff08\u6886\u5b50\u54ed\u677f\uff09 \uff08\u9876\u677f\u539f\u677f\uff09 \uff08\u897f\u76ae\u6b63\u677f\u4e0a\u6e05\u677f\uff09 \uff08\u897f\u76ae\u8fc7\u677f\uff09 \uff08\u4e8c\u9ec4\u53e0\u677f\uff09 \uff08\u897f\u7d27\u6447\u677f\uff09 \uff08\u5e72\u677f\uff09 \uff08\u5185\u4e8c\u9ec4\u539f\u677f\uff09 \uff08\u540c\u897f\u76ae\u6d41\u6c34\u677f\uff09 \uff08\u5185\u4e8c\u9ec4\u5f02\u677f\uff09 \uff08\u897f\u76ae\u6d41\u6c34\u677f\uff09 \uff08\u897f\u76ae\u5a03\u5a03\u8c03\u539f\u677f\uff09 \uff08\u897f\u76ae\u579b\u677f\u6d41\u6c34\u677f\uff09 \uff08\u540c\u6885\u82b1\u677f\uff09 \uff08\u540c\u6570\u677f\uff09 \uff08\u5185\u4e8c\u9ec4\u5e73\u677f\uff09 \uff08\u897f\u76ae\u539f\u677f\uff09 \uff08\u540c\u897f\u76ae\u5bfc\u677f\uff09 \uff08\u5522\u5450\u4e8c\u9ec4\u6b63\u677f\uff09 \uff08\u4e8c\u9ec4\u78b0\u677f\uff09 \uff08\u5185\u5522\u5450\u4e8c\u9ec4\u5bfc\u677f\uff09 \uff08\u53cd\u4e8c\u9ec4\u6162\u677f\uff09 \uff08\u6886\u5b50\u5feb\u677f\uff09 \uff08\u5439\u8154\u6162\u677f\uff09 \uff08\u897f\u76ae\u6563\u677f\uff09 \uff08\u5357\u6886\u5b50\u5bfc\u677f\uff09 \uff08\u540c\u6886\u5b50\u539f\u677f\uff09 \uff08\u897f\u76ae\u6162\u539f\u677f\uff09 \uff08\u6886\u5b50\u4e71\u5bfc\u677f\uff09 \uff08\u5357\u6886\u5b50\u6447\u677f\uff09 \uff08\u540c\u4e8c\u9ec4\u539f\u677f\uff09 \uff08\u5185\u6886\u5b50\u5bfc\u677f\uff09 \uff08\u897f\u76ae\u9876\u677f\uff09 \uff08\u4e09\u53eb\u5934\u54ed\u677f\uff09 \uff08\u897f\u76ae\u4e09\u773c\u677f\uff09 \uff08\u53cd\u4e8c\u9ec4\u6563\u677f\uff09 \uff08\u897f\u76ae\u5012\u677f\uff09 \uff08\u5185\u5357\u6886\u5b50\u5bfc\u677f\uff09 \uff08\u897f\u76ae\u6b63\u677f\uff09 \uff08\u5357\u6886\u5b50\u539f\u677f\uff09 \uff08\u6886\u5b50\u4e8c\u516d\u677f\uff09 \uff08\u53cd\u897f\u76ae\u4e8c\u516d\u677f\uff09 \uff08\u9ad8\u62e8\u5b50\u6447\u677f\uff09 \uff08\u897f\u76ae\u5c0f\u6162\u677f\uff09 \uff08\u9ad8\u62e8\u5b50\u539f\u677f\uff09 \uff08\u4e8c\u9ec4\u6447\u677f\uff09 \uff08\u53cd\u897f\u76ae\u5feb\u677f\uff09 \uff08\u6162\u897f\u76ae\u4e8c\u516d\u677f\uff09 \uff08\u897f\u76ae\u63a5\u677f\uff09 \uff08\u897f\u76ae\u5bfc\u677f\uff09 \uff08\u4e8c\u9ec4\u5feb\u677f\uff09 \uff08\u897f\u76ae\u54ed\u677f\uff09 \uff08\u9ad8\u62e8\u5b50\u9876\u677f\uff09 \uff08\u540c\u897f\u76ae\u6447\u677f\uff09 \uff08\u540c\u897f\u76ae\u6563\u677f\uff09 \uff08\u78b0\u677f\u4e8c\u9ec4\u539f\u677f\uff09 \uff08\u53eb\u677f\uff09 \uff08\u9ad8\u62e8\u5b50\u6563\u677f\uff09 \uff08\u53cd\u897f\u76ae\u6447\u677f\uff09 \uff08\u897f\u76ae\u5c0f\u5feb\u677f\uff09 \uff08\u9501\u5450\u4e8c\u9ec4\u6162\u677f\uff09 \uff08\u9ad8\u62e8\u5b50\u579b\u677f\uff09 \uff08\u540c\u897f\u76ae\u539f\u677f\uff09 \uff08\u897f\u76ae\u5feb\u4e8c\u516d\u677f\uff09 \uff08\u897f\u76ae\u6162\u6d41\u6c34\u677f\uff09 \uff08\u540c\u897f\u76ae\u5feb\u677f\uff09 \uff08\u4e8c\u9ec4\u5c0f\u5bfc\u677f\uff09 \uff08\u9ad8\u62e8\u5b50\u6d41\u6c34\u677f\uff09 \uff08\u540c\u54ed\u677f\uff09 \uff08\u6886\u5b50\u53cc\u5bfc\u677f\uff09 \uff08\u6886\u5b50\u6162\u677f\uff09 \uff08\u53cd\u4e8c\u9ec4\u5feb\u677f\uff09 \uff08\u5185\u4e8c\u9ec4\u5c0f\u5bfc\u677f\uff09 \uff08\u5167\u4e8c\u9ec4\u5bfc\u677f\uff09 \uff08\u53cd\u4e8c\u9ec4\u5bfc\u677f\uff09 \uff08\u53cd\u4e8c\u9ec4\u539f\u677f\uff09 \uff08\u897f\u76ae\u6162\u677f\uff09 \uff08\u4e8c\u9ec4\u579b\u677f\uff09 \uff08\u5185\u897f\u76ae\u5bfc\u677f\uff09 \uff08\u5185\u9501\u5450\u4e8c\u9ec4\u5bfc\u677f\uff09 \uff08\u897f\u76ae\u8dfa\u677f\uff09 \uff08\u5185\u4e8c\u9ec4\u5bfc\u677f\uff09 \uff08\u897f\u76ae\u5feb\u539f\u677f\uff09 \uff08\u6886\u5b50\u7d22\u677f\uff09 \uff08\u897f\u76ae\u7d27\u677f\uff09 \uff08\u6570\u677f\uff09 \uff08\u5feb\u897f\u76ae\u6447\u677f\uff09 \uff08\u5185\u897f\u76ae\u6563\u677f\uff09 \uff08\u540c\u897f\u76ae\u6162\u677f\uff09 \uff08\u6162\u897f\u76ae\u6447\u677f\uff09 \uff08\u540c\u4e8c\u9ec4\u6447\u677f\uff09 \uff08\u540c\u4e8c\u9ec4\u6b63\u677f\uff09 \uff08\u897f\u76ae\u579b\u677f\uff09 \uff08\u540c\u4e8c\u9ec4\u5bfc\u677f\uff09 \uff08\u4e8c\u9ec4\u6eda\u677f\uff09 \uff08\u6886\u5b50\u539f\u677f\uff09 \uff08\u9ad8\u62e8\u5b50\u78b0\u677f\uff09 \uff08\u897f\u76ae\u5feb\u6d41\u6c34\u677f\uff09 \uff08\u5522\u5450\u4e8c\u9ec4\u5bfc\u677f\uff09 \uff08\u5522\u5450\u897f\u76ae\u5bfc\u677f\uff09 \uff08\u6886\u5b50\u5bfc\u677f\uff09 \uff08\u4e8c\u9ec4\u5e73\u677f\uff09 \uff08\u540c\u9ad8\u62e8\u5b50\u5bfc\u677f\uff09 \uff08\u5167\u897f\u76ae\u5bfc\u677f\uff09 \uff08\u4e71\u897f\u76ae\u5bfc\u677f\uff09 \uff08\u5522\u5450\u4e8c\u9ec4\u6563\u677f\uff09 \uff08\u897f\u76ae\u9501\u677f\uff09 \uff08\u5522\u5450\u4e8c\u9ec4\u539f\u677f\uff09 \uff08\u4e8c\u9ec4\u6162\u677f\uff09 \uff08\u540c\u4e8c\u9ec4\u6563\u677f\uff09 \uff08\u539f\u677f\uff09 \uff08\u897f\u76ae\u6447\u677f\uff09 \uff08\u4e8c\u9ec4\u4e8c\u516d\u677f\uff09 \uff08\u5185\u540c\u897f\u76ae\u6447\u677f\uff09 \uff08\u897f\u76ae\u6eda\u677f\uff09\n"
       ]
      }
     ],
     "prompt_number": 216
    },
    {
     "cell_type": "code",
     "collapsed": false,
     "input": [],
     "language": "python",
     "metadata": {},
     "outputs": []
    },
    {
     "cell_type": "code",
     "collapsed": false,
     "input": [
      "#this is too much, the new strategy is to use my n2p tool and do a concatenate some initial letters\n",
      "ascbs=['erhyb','bzlsb','gbzerlb','erhdb','nerhyb','erhsb','nerhsb','ferhzb','bzyb','ngbzdb','gbzdb','erhdb','txperlb','xpyb','xpxdb','nbzmb','snerhmb','kub','duob','kxperlb','nferhdb','bzkyb','hdyb','txpsb','xpkb','xperlb','fxpsb','nepxdb','hbzyb','ehzb','bzab','sxpdb','ferhyb','sanb','erhsyb','mhb','bzkb','dbyb','xpzbsqb','xpgb','erhdb','xjyb','ganb','nerhyb',]"
     ],
     "language": "python",
     "metadata": {},
     "outputs": []
    },
    {
     "cell_type": "code",
     "collapsed": false,
     "input": [
      "outputKbv(stats)"
     ],
     "language": "python",
     "metadata": {},
     "outputs": [
      {
       "output_type": "stream",
       "stream": "stdout",
       "text": [
        "\uff08\u897f\u76ae\u6447\u677f\uff09: 5446\n",
        "\uff08\u897f\u76ae\u6563\u677f\uff09: 2305\n",
        "\uff08\u4e8c\u9ec4\u6447\u677f\uff09: 1368\n",
        "\uff08\u897f\u76ae\u539f\u677f\uff09: 1245\n",
        "\uff08\u897f\u76ae\u5feb\u677f\uff09: 1244\n",
        "\uff08\u4e8c\u9ec4\u539f\u677f\uff09: 814\n",
        "\uff08\u4e8c\u9ec4\u6563\u677f\uff09: 651\n",
        "\uff08\u897f\u76ae\u6d41\u6c34\u677f\uff09: 577\n",
        "\uff08\u897f\u76ae\u5bfc\u677f\uff09: 363\n",
        "\uff08\u897f\u76ae\u6162\u677f\uff09: 330\n",
        "\uff08\u897f\u76ae\u4e8c\u516d\u677f\uff09: 318\n",
        "\uff08\u5185\u897f\u76ae\u5bfc\u677f\uff09: 298\n",
        "\uff08\u4e8c\u9ec4\u5bfc\u677f\uff09: 146\n",
        "\uff08\u6570\u677f\uff09: 138\n",
        "\uff08\u4e8c\u9ec4\u6162\u677f\uff09: 138\n",
        "\uff08\u4e8c\u9ec4\u5e73\u677f\uff09: 131\n",
        "\uff08\u5185\u4e8c\u9ec4\u5bfc\u677f\uff09: 88\n",
        "\uff08\u540c\u897f\u76ae\u6447\u677f\uff09: 83\n",
        "\uff08\u6886\u5b50\u539f\u677f\uff09: 64\n",
        "\uff08\u9ad8\u62e8\u5b50\u6447\u677f\uff09: 61\n",
        "\uff08\u53cd\u4e8c\u9ec4\u6162\u677f\uff09: 51\n",
        "\uff08\u540c\u897f\u76ae\u6563\u677f\uff09: 41\n",
        "\uff08\u53cd\u4e8c\u9ec4\u539f\u677f\uff09: 41\n",
        "\uff08\u54ed\u677f\uff09: 39\n",
        "\uff08\u897f\u76ae\u5feb\u4e8c\u516d\u677f\uff09: 37\n",
        "\uff08\u897f\u76ae\u6b63\u677f\uff09: 36\n",
        "\uff08\u53cd\u4e8c\u9ec4\u6563\u677f\uff09: 23\n",
        "\uff08\u897f\u76ae\u5c0f\u5bfc\u677f\uff09: 22\n",
        "\uff08\u540c\u4e8c\u9ec4\u6447\u677f\uff09: 21\n",
        "\uff08\u53cd\u897f\u76ae\u4e8c\u516d\u677f\uff09: 21\n",
        "\uff08\u897f\u76ae\u579b\u677f\uff09: 20\n",
        "\uff08\u9ad8\u62e8\u5b50\u539f\u677f\uff09: 19\n",
        "\uff08\u5522\u5450\u4e8c\u9ec4\u539f\u677f\uff09: 19\n",
        "\uff08\u5522\u5450\u4e8c\u9ec4\u6563\u677f\uff09: 16\n",
        "\uff08\u9ad8\u62e8\u5b50\u6563\u677f\uff09: 15\n",
        "\uff08\u897f\u76ae\u7d27\u677f\uff09: 15\n",
        "\uff08\u4e8c\u9ec4\u78b0\u677f\uff09: 13\n",
        "\uff08\u53cd\u4e8c\u9ec4\u6447\u677f\uff09: 12\n",
        "\uff08\u4e8c\u9ec4\u6b63\u677f\uff09: 12\n",
        "\uff08\u53cd\u897f\u76ae\u6563\u677f\uff09: 11\n",
        "\uff08\u4e8c\u9ec4\u579b\u677f\uff09: 11\n",
        "\uff08\u9ad8\u62e8\u5b50\u579b\u677f\uff09: 9\n",
        "\uff08\u4e8c\u9ec4\u9876\u677f\uff09: 9\n",
        "\uff08\u897f\u76ae\u54ed\u677f\uff09: 8\n",
        "\uff08\u6886\u5b50\u6162\u677f\uff09: 8\n",
        "\uff08\u5357\u6886\u5b50\u539f\u677f\uff09: 8\n",
        "\uff08\u9ad8\u62e8\u5b50\u9876\u677f\uff09: 7\n",
        "\uff08\u5439\u8154\u6162\u677f\uff09: 7\n",
        "\uff08\u540c\u897f\u76ae\u539f\u677f\uff09: 7\n",
        "\uff08\u5357\u6886\u5b50\u6162\u677f\uff09: 7\n",
        "\uff08\u897f\u76ae\u6eda\u677f\uff09: 6\n",
        "\uff08\u6886\u5b50\u4e71\u5bfc\u677f\uff09: 6\n",
        "\uff08\u53cd\u897f\u76ae\u6447\u677f\uff09: 6\n",
        "\uff08\u5185\u5357\u6886\u5b50\u5bfc\u677f\uff09: 6\n",
        "\uff08\u897f\u76ae\u6162\u6d41\u6c34\u677f\uff09: 5\n",
        "\uff08\u6886\u5b50\u4e8c\u516d\u677f\uff09: 5\n",
        "\uff08\u6162\u897f\u76ae\u4e8c\u516d\u677f\uff09: 5\n",
        "\uff08\u5522\u5450\u4e8c\u9ec4\u5bfc\u677f\uff09: 5\n",
        "\uff08\u53cd\u4e8c\u9ec4\u6b63\u677f\uff09: 5\n",
        "\uff08\u5185\u9ad8\u62e8\u5b50\u5bfc\u677f\uff09: 5\n",
        "\uff08\u897f\u76ae\u9876\u677f\uff09: 4\n",
        "\uff08\u897f\u76ae\u9501\u677f\uff09: 4\n",
        "\uff08\u6886\u5b50\u5feb\u677f\uff09: 4\n",
        "\uff08\u6886\u5b50\u5bfc\u677f\uff09: 4\n",
        "\uff08\u5feb\u897f\u76ae\u6447\u677f\uff09: 4\n",
        "\uff08\u5522\u5450\u4e8c\u9ec4\u6162\u677f\uff09: 4\n",
        "\uff08\u540c\u897f\u76ae\u6d41\u6c34\u677f\uff09: 4\n",
        "\uff08\u540c\u897f\u76ae\u5bfc\u677f\uff09: 4\n",
        "\uff08\u540c\u4e8c\u9ec4\u539f\u677f\uff09: 4\n",
        "\uff08\u5357\u6886\u5b50\u5bfc\u677f\uff09: 4\n",
        "\uff08\u5185\u5522\u5450\u4e8c\u9ec4\u5bfc\u677f\uff09: 4\n",
        "\uff08\u9ad8\u62e8\u5b50\u5bfc\u677f\uff09: 3\n",
        "\uff08\u897f\u76ae\u6416\u677f\uff09: 3\n",
        "\uff08\u897f\u76ae\u5c0f\u5feb\u677f\uff09: 3\n",
        "\uff08\u6886\u5b50\u6309\u677f\uff09: 3\n",
        "\uff08\u6885\u82b1\u677f\uff09: 3\n",
        "\uff08\u540c\u4e8c\u9ec4\u6563\u677f\uff09: 3\n",
        "\uff08\u5185\u6886\u5b50\u5bfc\u677f\uff09: 3\n",
        "\uff08\u5185\u540c\u897f\u76ae\u6447\u677f\uff09: 3\n",
        "\uff08\u5185\u4e8c\u9ec4\u6563\u677f\uff09: 3\n",
        "\uff08\u5185\u4e8c\u9ec4\u6447\u677f\uff09: 3\n",
        "\uff08\u897f\u76ae\u5feb\u539f\u677f\uff09: 2\n",
        "\uff08\u897f\u76ae\u5c0f\u6162\u677f\uff09: 2\n",
        "\uff08\u897f\u76ae\u4e09\u773c\u677f\uff09: 2\n",
        "\uff08\u6c49\u8c03\u539f\u677f\uff09: 2\n",
        "\uff08\u6886\u5b50\u7d22\u677f\uff09: 2\n",
        "\uff08\u6886\u5b50\u6447\u677f\uff09: 2\n",
        "\uff08\u5feb\u897f\u76ae\u4e8c\u516d\u677f\uff09: 2\n",
        "\uff08\u5e72\u677f\uff09: 2\n",
        "\uff08\u5522\u5450\u4e8c\u9ec4\u6b63\u677f\uff09: 2\n",
        "\uff08\u540c\u897f\u76ae\u6162\u677f\uff09: 2\n",
        "\uff08\u540c\u897f\u76ae\u5feb\u677f\uff09: 2\n",
        "\uff08\u540c\u6885\u82b1\u677f\uff09: 2\n",
        "\uff08\u540c\u6570\u677f\uff09: 2\n",
        "\uff08\u53eb\u677f\uff09: 2\n",
        "\uff08\u5357\u6886\u5b50\u6447\u677f\uff09: 2\n",
        "\uff08\u5185\u897f\u76ae\u5c0f\u5bfc\u677f\uff09: 2\n",
        "\uff08\u4e8c\u9ec4\u4e8c\u516d\u677f\uff09: 2\n",
        "\uff08\u4e71\u897f\u76ae\u5bfc\u677f\uff09: 2\n",
        "\uff08\u9ad8\u62e8\u5b50\u78b0\u677f\uff09: 1\n",
        "\uff08\u9ad8\u62e8\u5b50\u6d41\u6c34\u677f\uff09: 1\n",
        "\uff08\u9ad8\u62e8\u5b50\u4e8c\u516d\u677f\uff09: 1\n",
        "\uff08\u9876\u677f\u539f\u677f\uff09: 1\n",
        "\uff08\u9501\u5450\u4e8c\u9ec4\u6162\u677f\uff09: 1\n",
        "\uff08\u897f\u7d27\u6447\u677f\uff09: 1\n",
        "\uff08\u897f\u76ae\u8fc7\u677f\uff09: 1\n",
        "\uff08\u897f\u76ae\u8dfa\u677f\uff09: 1\n",
        "\uff08\u897f\u76ae\u6b63\u677f\u4e0a\u6e05\u677f\uff09: 1\n",
        "\uff08\u897f\u76ae\u63a5\u677f\uff09: 1\n",
        "\uff08\u897f\u76ae\u6162\u539f\u677f\uff09: 1\n",
        "\uff08\u897f\u76ae\u5feb\u6d41\u6c34\u677f\uff09: 1\n",
        "\uff08\u897f\u76ae\u5a03\u5a03\u8c03\u539f\u677f\uff09: 1\n",
        "\uff08\u897f\u76ae\u579b\u677f\u6d41\u6c34\u677f\uff09: 1\n",
        "\uff08\u897f\u76ae\u5012\u677f\uff09: 1\n",
        "\uff08\u82b1\u6886\u5b50\u539f\u677f\uff09: 1\n",
        "\uff08\u78b0\u677f\u4e8c\u9ec4\u539f\u677f\uff09: 1\n",
        "\uff08\u6886\u5b50\u6d41\u6c34\u677f\uff09: 1\n",
        "\uff08\u6886\u5b50\u5feb\u539f\u677f\uff09: 1\n",
        "\uff08\u6886\u5b50\u54ed\u677f\uff09: 1\n",
        "\uff08\u6886\u5b50\u53cc\u5bfc\u677f\uff09: 1\n",
        "\uff08\u6563\u677f\uff09: 1\n",
        "\uff08\u6162\u897f\u76ae\u6447\u677f\uff09: 1\n",
        "\uff08\u579b\u677f\uff09: 1\n",
        "\uff08\u5522\u5450\u897f\u76ae\u5bfc\u677f\uff09: 1\n",
        "\uff08\u540c\u9ad8\u62e8\u5b50\u5bfc\u677f\uff09: 1\n",
        "\uff08\u540c\u897f\u76ae\u4e8c\u516d\u677f\uff09: 1\n",
        "\uff08\u540c\u6886\u5b50\u539f\u677f\uff09: 1\n",
        "\uff08\u540c\u6563\u897f\u76ae\u677f\uff09: 1\n",
        "\uff08\u540c\u54ed\u677f\uff09: 1\n",
        "\uff08\u540c\u4e8c\u9ec4\u6b63\u677f\uff09: 1\n",
        "\uff08\u540c\u4e8c\u9ec4\u5bfc\u677f\uff09: 1\n",
        "\uff08\u53cd\u897f\u76ae\u5feb\u677f\uff09: 1\n",
        "\uff08\u53cd\u4e8c\u9ec4\u5feb\u677f\uff09: 1\n",
        "\uff08\u53cd\u4e8c\u9ec4\u5bfc\u677f\uff09: 1\n",
        "\uff08\u53cc\u897f\u76ae\u5bfc\u677f\uff09: 1\n",
        "\uff08\u539f\u677f\uff09: 1\n",
        "\uff08\u5185\u9501\u5450\u4e8c\u9ec4\u5bfc\u677f\uff09: 1\n",
        "\uff08\u5185\u897f\u76ae\u6563\u677f\uff09: 1\n",
        "\uff08\u5185\u53cd\u4e8c\u9ec4\u5bfc\u677f\uff09: 1\n",
        "\uff08\u5185\u4e8c\u9ec4\u5f02\u677f\uff09: 1\n",
        "\uff08\u5185\u4e8c\u9ec4\u5e73\u677f\uff09: 1\n",
        "\uff08\u5185\u4e8c\u9ec4\u5c0f\u5bfc\u677f\uff09: 1\n",
        "\uff08\u5185\u4e8c\u9ec4\u539f\u677f\uff09: 1\n",
        "\uff08\u5167\u897f\u76ae\u5bfc\u677f\uff09: 1\n",
        "\uff08\u5167\u4e8c\u9ec4\u5bfc\u677f\uff09: 1\n",
        "\uff08\u4e8c\u9ec4\u6eda\u677f\uff09: 1\n",
        "\uff08\u4e8c\u9ec4\u5feb\u677f\uff09: 1\n",
        "\uff08\u4e8c\u9ec4\u5c0f\u5bfc\u677f\uff09: 1\n",
        "\uff08\u4e8c\u9ec4\u53e0\u677f\uff09: 1\n",
        "\uff08\u4e8c\u9ec4\u4e09\u773c\u677f\uff09: 1\n",
        "\uff08\u4e09\u53eb\u5934\u54ed\u677f\uff09: 1\n"
       ]
      }
     ],
     "prompt_number": 230
    },
    {
     "cell_type": "code",
     "collapsed": false,
     "input": [],
     "language": "python",
     "metadata": {},
     "outputs": []
    },
    {
     "cell_type": "code",
     "collapsed": false,
     "input": [
      "#by documents\n",
      "plotFD(newstats)"
     ],
     "language": "python",
     "metadata": {},
     "outputs": [
      {
       "metadata": {},
       "output_type": "display_data",
       "png": "[encoded data removed]",
       "text": [
        "<matplotlib.figure.Figure at 0x104d90c50>"
       ]
      }
     ],
     "prompt_number": 220
    },
    {
     "cell_type": "code",
     "collapsed": false,
     "input": [],
     "language": "python",
     "metadata": {},
     "outputs": []
    },
    {
     "cell_type": "heading",
     "level": 3,
     "metadata": {},
     "source": [
      "stats of banshi by #of words"
     ]
    },
    {
     "cell_type": "code",
     "collapsed": false,
     "input": [
      "#newpl is new per_label that holds strings instead of lists\n",
      "newpl={}\n",
      "for k in per_label:\n",
      "    a=per_label[k]\n",
      "    accum=[]\n",
      "    for i in range(len(a)):\n",
      "        b=\"\".join(a[i])\n",
      "        accum.append(b)\n",
      "    c=\"\".join(accum)\n",
      "    d=c.replace(\" \",\"\")\n",
      "    f=codecs.decode(d,'utf-8')\n",
      "    newpl[k]=f"
     ],
     "language": "python",
     "metadata": {},
     "outputs": [],
     "prompt_number": 141
    },
    {
     "cell_type": "code",
     "collapsed": false,
     "input": [
      "print newpl['\uff08\u53cd\u4e8c\u9ec4\u6b63\u677f\uff09']"
     ],
     "language": "python",
     "metadata": {},
     "outputs": [
      {
       "output_type": "stream",
       "stream": "stdout",
       "text": [
        "\u6211\u8fd9\u91cc\u5047\u610f\u513f\u61d2\u7741\u674f\u773c\u6447\u6447\u6446\u6446\u6446\u6447\u626d\u634f\u5411\u524d\u6211\u53ea\u5f97\u628a\u5b98\u4eba\u4e00\u58f0\u6765\u5524\u968f\u6211\u5230\u7ea2\u7f57\u5e10\u5012\u51e4\u98a0\u9e3e\u731b\u7136\u95f4\u53c8\u53ea\u89c1\u5929\u660f\u5730\u6697\u8bb8\u591a\u7684\u6028\u9b42\u9b3c\u7ad9\u7acb\u9762\u524d\u90a3\u8fb9\u53a2\u53c8\u6765\u4e86\u725b\u5934\u9a6c\u9762\u7389\u7687\u7237\u9a7e\u7965\u4e91\u63a5\u6211\u4e0a\u5929\n"
       ]
      }
     ],
     "prompt_number": 223
    },
    {
     "cell_type": "code",
     "collapsed": false,
     "input": [
      "len(newpl)"
     ],
     "language": "python",
     "metadata": {},
     "outputs": [
      {
       "metadata": {},
       "output_type": "pyout",
       "prompt_number": 227,
       "text": [
        "151"
       ]
      }
     ],
     "prompt_number": 227
    },
    {
     "cell_type": "code",
     "collapsed": false,
     "input": [
      "len(per_label)"
     ],
     "language": "python",
     "metadata": {},
     "outputs": [
      {
       "metadata": {},
       "output_type": "pyout",
       "prompt_number": 228,
       "text": [
        "151"
       ]
      }
     ],
     "prompt_number": 228
    },
    {
     "cell_type": "code",
     "collapsed": false,
     "input": [
      "len(statsword)"
     ],
     "language": "python",
     "metadata": {},
     "outputs": [
      {
       "metadata": {},
       "output_type": "pyout",
       "prompt_number": 229,
       "text": [
        "151"
       ]
      }
     ],
     "prompt_number": 229
    },
    {
     "cell_type": "code",
     "collapsed": false,
     "input": [],
     "language": "python",
     "metadata": {},
     "outputs": []
    },
    {
     "cell_type": "code",
     "collapsed": false,
     "input": [
      "#put this statistics into a dictionary\n",
      "statsword={}\n",
      "for k in newpl:\n",
      "    statsword[k]=len(newpl[k])"
     ],
     "language": "python",
     "metadata": {},
     "outputs": [],
     "prompt_number": 221
    },
    {
     "cell_type": "code",
     "collapsed": false,
     "input": [
      "outputKbv(statsword)"
     ],
     "language": "python",
     "metadata": {},
     "outputs": [
      {
       "output_type": "stream",
       "stream": "stdout",
       "text": [
        "\uff08\u897f\u76ae\u6447\u677f\uff09: 94522\n",
        "\uff08\u897f\u76ae\u5feb\u677f\uff09: 38040\n",
        "\uff08\u897f\u76ae\u6563\u677f\uff09: 34134\n",
        "\uff08\u897f\u76ae\u539f\u677f\uff09: 34110\n",
        "\uff08\u4e8c\u9ec4\u539f\u677f\uff09: 25569\n",
        "\uff08\u4e8c\u9ec4\u6447\u677f\uff09: 24576\n",
        "\uff08\u897f\u76ae\u6d41\u6c34\u677f\uff09: 20748\n",
        "\uff08\u897f\u76ae\u4e8c\u516d\u677f\uff09: 15585\n",
        "\uff08\u897f\u76ae\u6162\u677f\uff09: 13887\n",
        "\uff08\u4e8c\u9ec4\u6563\u677f\uff09: 10589\n",
        "\uff08\u4e8c\u9ec4\u6162\u677f\uff09: 7152\n",
        "\uff08\u53cd\u4e8c\u9ec4\u6162\u677f\uff09: 3553\n",
        "\uff08\u897f\u76ae\u5bfc\u677f\uff09: 3056\n",
        "\uff08\u5185\u897f\u76ae\u5bfc\u677f\uff09: 2370\n",
        "\uff08\u4e8c\u9ec4\u5e73\u677f\uff09: 1940\n",
        "\uff08\u53cd\u4e8c\u9ec4\u539f\u677f\uff09: 1830\n",
        "\uff08\u897f\u76ae\u6b63\u677f\uff09: 1753\n",
        "\uff08\u4e8c\u9ec4\u5bfc\u677f\uff09: 1355\n",
        "\uff08\u897f\u76ae\u5feb\u4e8c\u516d\u677f\uff09: 1204\n",
        "\uff08\u6886\u5b50\u539f\u677f\uff09: 1134\n",
        "\uff08\u540c\u897f\u76ae\u6447\u677f\uff09: 1107\n",
        "\uff08\u53cd\u897f\u76ae\u4e8c\u516d\u677f\uff09: 990\n",
        "\uff08\u5185\u4e8c\u9ec4\u5bfc\u677f\uff09: 829\n",
        "\uff08\u6570\u677f\uff09: 762\n",
        "\uff08\u9ad8\u62e8\u5b50\u6447\u677f\uff09: 741\n",
        "\uff08\u5522\u5450\u4e8c\u9ec4\u539f\u677f\uff09: 701\n",
        "\uff08\u4e8c\u9ec4\u6b63\u677f\uff09: 606\n",
        "\uff08\u897f\u76ae\u579b\u677f\uff09: 551\n",
        "\uff08\u6162\u897f\u76ae\u4e8c\u516d\u677f\uff09: 499\n",
        "\uff08\u897f\u76ae\u7d27\u677f\uff09: 443\n",
        "\uff08\u6886\u5b50\u6162\u677f\uff09: 390\n",
        "\uff08\u540c\u897f\u76ae\u6563\u677f\uff09: 387\n",
        "\uff08\u54ed\u677f\uff09: 372\n",
        "\uff08\u897f\u76ae\u6162\u6d41\u6c34\u677f\uff09: 359\n",
        "\uff08\u53cd\u4e8c\u9ec4\u6563\u677f\uff09: 346\n",
        "\uff08\u5522\u5450\u4e8c\u9ec4\u6b63\u677f\uff09: 336\n",
        "\uff08\u9ad8\u62e8\u5b50\u539f\u677f\uff09: 309\n",
        "\uff08\u53cd\u4e8c\u9ec4\u6447\u677f\uff09: 296\n",
        "\uff08\u9ad8\u62e8\u5b50\u6563\u677f\uff09: 280\n",
        "\uff08\u540c\u4e8c\u9ec4\u6447\u677f\uff09: 279\n",
        "\uff08\u4e8c\u9ec4\u9876\u677f\uff09: 266\n",
        "\uff08\u4e8c\u9ec4\u78b0\u677f\uff09: 258\n",
        "\uff08\u53cd\u897f\u76ae\u6447\u677f\uff09: 246\n",
        "\uff08\u5357\u6886\u5b50\u539f\u677f\uff09: 220\n",
        "\uff08\u5522\u5450\u4e8c\u9ec4\u6563\u677f\uff09: 219\n",
        "\uff08\u53cd\u897f\u76ae\u6563\u677f\uff09: 199\n",
        "\uff08\u6886\u5b50\u4e8c\u516d\u677f\uff09: 190\n",
        "\uff08\u897f\u76ae\u5c0f\u5bfc\u677f\uff09: 182\n",
        "\uff08\u897f\u76ae\u5feb\u539f\u677f\uff09: 176\n",
        "\uff08\u5522\u5450\u4e8c\u9ec4\u6162\u677f\uff09: 169\n",
        "\uff08\u897f\u76ae\u54ed\u677f\uff09: 158\n",
        "\uff08\u5357\u6886\u5b50\u6162\u677f\uff09: 156\n",
        "\uff08\u4e8c\u9ec4\u579b\u677f\uff09: 147\n",
        "\uff08\u9ad8\u62e8\u5b50\u6d41\u6c34\u677f\uff09: 144\n",
        "\uff08\u4e8c\u9ec4\u4e8c\u516d\u677f\uff09: 142\n",
        "\uff08\u6886\u5b50\u6309\u677f\uff09: 138\n",
        "\uff08\u9ad8\u62e8\u5b50\u579b\u677f\uff09: 134\n",
        "\uff08\u5feb\u897f\u76ae\u6447\u677f\uff09: 117\n",
        "\uff08\u6886\u5b50\u4e71\u5bfc\u677f\uff09: 113\n",
        "\uff08\u897f\u76ae\u9876\u677f\uff09: 111\n",
        "\uff08\u897f\u76ae\u6eda\u677f\uff09: 110\n",
        "\uff08\u579b\u677f\uff09: 108\n",
        "\uff08\u540c\u897f\u76ae\u539f\u677f\uff09: 108\n",
        "\uff08\u897f\u76ae\u5c0f\u6162\u677f\uff09: 104\n",
        "\uff08\u6c49\u8c03\u539f\u677f\uff09: 104\n",
        "\uff08\u6886\u5b50\u5feb\u677f\uff09: 94\n",
        "\uff08\u5439\u8154\u6162\u677f\uff09: 89\n",
        "\uff08\u53cd\u897f\u76ae\u5feb\u677f\uff09: 80\n",
        "\uff08\u53cd\u4e8c\u9ec4\u6b63\u677f\uff09: 80\n",
        "\uff08\u5185\u4e8c\u9ec4\u6447\u677f\uff09: 80\n",
        "\uff08\u9876\u677f\u539f\u677f\uff09: 79\n",
        "\uff08\u897f\u76ae\u5feb\u6d41\u6c34\u677f\uff09: 73\n",
        "\uff08\u897f\u76ae\u8dfa\u677f\uff09: 65\n",
        "\uff08\u897f\u76ae\u5a03\u5a03\u8c03\u539f\u677f\uff09: 64\n",
        "\uff08\u540c\u897f\u76ae\u6d41\u6c34\u677f\uff09: 62\n",
        "\uff08\u897f\u76ae\u6b63\u677f\u4e0a\u6e05\u677f\uff09: 60\n",
        "\uff08\u897f\u76ae\u5c0f\u5feb\u677f\uff09: 60\n",
        "\uff08\u5357\u6886\u5b50\u6447\u677f\uff09: 60\n",
        "\uff08\u897f\u76ae\u9501\u677f\uff09: 59\n",
        "\uff08\u4e8c\u9ec4\u4e09\u773c\u677f\uff09: 57\n",
        "\uff08\u5185\u5357\u6886\u5b50\u5bfc\u677f\uff09: 52\n",
        "\uff08\u5185\u4e8c\u9ec4\u6563\u677f\uff09: 52\n",
        "\uff08\u9ad8\u62e8\u5b50\u9876\u677f\uff09: 50\n",
        "\uff08\u897f\u76ae\u6162\u539f\u677f\uff09: 49\n",
        "\uff08\u6885\u82b1\u677f\uff09: 46\n",
        "\uff08\u5522\u5450\u4e8c\u9ec4\u5bfc\u677f\uff09: 45\n",
        "\uff08\u9ad8\u62e8\u5b50\u4e8c\u516d\u677f\uff09: 44\n",
        "\uff08\u897f\u76ae\u4e09\u773c\u677f\uff09: 44\n",
        "\uff08\u9ad8\u62e8\u5b50\u78b0\u677f\uff09: 43\n",
        "\uff08\u540c\u897f\u76ae\u6162\u677f\uff09: 43\n",
        "\uff08\u6886\u5b50\u7d22\u677f\uff09: 42\n",
        "\uff08\u5185\u9ad8\u62e8\u5b50\u5bfc\u677f\uff09: 41\n",
        "\uff08\u4e8c\u9ec4\u6eda\u677f\uff09: 41\n",
        "\uff08\u897f\u7d27\u6447\u677f\uff09: 40\n",
        "\uff08\u5357\u6886\u5b50\u5bfc\u677f\uff09: 38\n",
        "\uff08\u5185\u5522\u5450\u4e8c\u9ec4\u5bfc\u677f\uff09: 38\n",
        "\uff08\u5185\u4e8c\u9ec4\u539f\u677f\uff09: 37\n",
        "\uff08\u53eb\u677f\uff09: 33\n",
        "\uff08\u6886\u5b50\u5bfc\u677f\uff09: 31\n",
        "\uff08\u540c\u897f\u76ae\u5bfc\u677f\uff09: 31\n",
        "\uff08\u540c\u6885\u82b1\u677f\uff09: 31\n",
        "\uff08\u9501\u5450\u4e8c\u9ec4\u6162\u677f\uff09: 30\n",
        "\uff08\u9ad8\u62e8\u5b50\u5bfc\u677f\uff09: 28\n",
        "\uff08\u5feb\u897f\u76ae\u4e8c\u516d\u677f\uff09: 28\n",
        "\uff08\u5185\u540c\u897f\u76ae\u6447\u677f\uff09: 28\n",
        "\uff08\u4e8c\u9ec4\u5feb\u677f\uff09: 28\n",
        "\uff08\u897f\u76ae\u579b\u677f\u6d41\u6c34\u677f\uff09: 27\n",
        "\uff08\u540c\u4e8c\u9ec4\u539f\u677f\uff09: 27\n",
        "\uff08\u5185\u6886\u5b50\u5bfc\u677f\uff09: 26\n",
        "\uff08\u540c\u4e8c\u9ec4\u6563\u677f\uff09: 25\n",
        "\uff08\u53cd\u4e8c\u9ec4\u5feb\u677f\uff09: 23\n",
        "\uff08\u897f\u76ae\u6416\u677f\uff09: 21\n",
        "\uff08\u6162\u897f\u76ae\u6447\u677f\uff09: 21\n",
        "\uff08\u540c\u6886\u5b50\u539f\u677f\uff09: 20\n",
        "\uff08\u4e8c\u9ec4\u53e0\u677f\uff09: 20\n",
        "\uff08\u540c\u897f\u76ae\u5feb\u677f\uff09: 19\n",
        "\uff08\u4e71\u897f\u76ae\u5bfc\u677f\uff09: 19\n",
        "\uff08\u539f\u677f\uff09: 17\n",
        "\uff08\u6886\u5b50\u6d41\u6c34\u677f\uff09: 16\n",
        "\uff08\u5185\u897f\u76ae\u5c0f\u5bfc\u677f\uff09: 16\n",
        "\uff08\u540c\u4e8c\u9ec4\u6b63\u677f\uff09: 15\n",
        "\uff08\u6886\u5b50\u5feb\u539f\u677f\uff09: 14\n",
        "\uff08\u5e72\u677f\uff09: 14\n",
        "\uff08\u78b0\u677f\u4e8c\u9ec4\u539f\u677f\uff09: 13\n",
        "\uff08\u540c\u6570\u677f\uff09: 13\n",
        "\uff08\u6886\u5b50\u6447\u677f\uff09: 12\n",
        "\uff08\u897f\u76ae\u8fc7\u677f\uff09: 10\n",
        "\uff08\u897f\u76ae\u63a5\u677f\uff09: 10\n",
        "\uff08\u82b1\u6886\u5b50\u539f\u677f\uff09: 10\n",
        "\uff08\u6563\u677f\uff09: 10\n",
        "\uff08\u5522\u5450\u897f\u76ae\u5bfc\u677f\uff09: 10\n",
        "\uff08\u540c\u9ad8\u62e8\u5b50\u5bfc\u677f\uff09: 10\n",
        "\uff08\u540c\u6563\u897f\u76ae\u677f\uff09: 10\n",
        "\uff08\u540c\u4e8c\u9ec4\u5bfc\u677f\uff09: 10\n",
        "\uff08\u53cd\u4e8c\u9ec4\u5bfc\u677f\uff09: 10\n",
        "\uff08\u53cc\u897f\u76ae\u5bfc\u677f\uff09: 10\n",
        "\uff08\u5185\u9501\u5450\u4e8c\u9ec4\u5bfc\u677f\uff09: 10\n",
        "\uff08\u5185\u4e8c\u9ec4\u5f02\u677f\uff09: 10\n",
        "\uff08\u5167\u897f\u76ae\u5bfc\u677f\uff09: 10\n",
        "\uff08\u5167\u4e8c\u9ec4\u5bfc\u677f\uff09: 10\n",
        "\uff08\u897f\u76ae\u5012\u677f\uff09: 7\n",
        "\uff08\u6886\u5b50\u53cc\u5bfc\u677f\uff09: 7\n",
        "\uff08\u540c\u897f\u76ae\u4e8c\u516d\u677f\uff09: 7\n",
        "\uff08\u5185\u897f\u76ae\u6563\u677f\uff09: 7\n",
        "\uff08\u5185\u4e8c\u9ec4\u5e73\u677f\uff09: 7\n",
        "\uff08\u5185\u4e8c\u9ec4\u5c0f\u5bfc\u677f\uff09: 7\n",
        "\uff08\u4e8c\u9ec4\u5c0f\u5bfc\u677f\uff09: 7\n",
        "\uff08\u6886\u5b50\u54ed\u677f\uff09: 5\n",
        "\uff08\u540c\u54ed\u677f\uff09: 4\n",
        "\uff08\u5185\u53cd\u4e8c\u9ec4\u5bfc\u677f\uff09: 3\n",
        "\uff08\u4e09\u53eb\u5934\u54ed\u677f\uff09: 3\n"
       ]
      }
     ],
     "prompt_number": 222
    },
    {
     "cell_type": "code",
     "collapsed": false,
     "input": [
      "plotFD(statsword)"
     ],
     "language": "python",
     "metadata": {},
     "outputs": [
      {
       "metadata": {},
       "output_type": "display_data",
       "png": "[encoded data removed]",
       "text": [
        "<matplotlib.figure.Figure at 0x1069a63d0>"
       ]
      }
     ],
     "prompt_number": 226
    },
    {
     "cell_type": "code",
     "collapsed": false,
     "input": [],
     "language": "python",
     "metadata": {},
     "outputs": []
    }
   ],
   "metadata": {}
  }
 ]
}