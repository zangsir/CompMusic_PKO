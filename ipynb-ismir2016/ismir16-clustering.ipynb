{
 "cells": [
  {
   "cell_type": "markdown",
   "metadata": {},
   "source": [
    "# TF-IDF vectorizer"
   ]
  },
  {
   "cell_type": "code",
   "execution_count": 1,
   "metadata": {
    "collapsed": true
   },
   "outputs": [],
   "source": [
    "%matplotlib inline"
   ]
  },
  {
   "cell_type": "code",
   "execution_count": null,
   "metadata": {
    "collapsed": true
   },
   "outputs": [],
   "source": []
  },
  {
   "cell_type": "code",
   "execution_count": null,
   "metadata": {
    "collapsed": true
   },
   "outputs": [],
   "source": []
  },
  {
   "cell_type": "code",
   "execution_count": 2,
   "metadata": {
    "collapsed": false
   },
   "outputs": [
    {
     "data": {
      "text/plain": [
       "u'/Users/zangsir/Desktop/text-mining-compmusic/ipynb-ismir16'"
      ]
     },
     "execution_count": 2,
     "metadata": {},
     "output_type": "execute_result"
    }
   ],
   "source": [
    "pwd"
   ]
  },
  {
   "cell_type": "code",
   "execution_count": 3,
   "metadata": {
    "collapsed": true
   },
   "outputs": [],
   "source": [
    "# -*- coding: utf-8 -*-\n",
    "\n",
    "\n",
    "import sys, os\n",
    "import numpy as np\n",
    "reload(sys)\n",
    "sys.setdefaultencoding(\"utf-8\")"
   ]
  },
  {
   "cell_type": "code",
   "execution_count": null,
   "metadata": {
    "collapsed": true
   },
   "outputs": [],
   "source": []
  },
  {
   "cell_type": "code",
   "execution_count": null,
   "metadata": {
    "collapsed": true
   },
   "outputs": [],
   "source": []
  },
  {
   "cell_type": "code",
   "execution_count": 37,
   "metadata": {
    "collapsed": true
   },
   "outputs": [],
   "source": [
    "from sklearn.feature_extraction.text import TfidfVectorizer\n",
    "import sys, os\n",
    "import numpy as np\n",
    "reload(sys)\n",
    "sys.setdefaultencoding(\"utf-8\")\n",
    "\n",
    "import codecs,re\n",
    "from sklearn.feature_extraction.text import CountVectorizer\n",
    "\n",
    "\n",
    "stop_ori='的 一 不 在 人 有 是 为 以 于 上 他 而 后 之 来 及 了 因 下 可 到 由 这 与 也 此 但 并 个 其 已 无 小 我 们 起 最 再 今 去 好 只 又 或 很 亦 某 把 那 你 乃 它 吧 被 比 别 趁 当 从 到 得 打 凡 儿 尔 该 各 给 跟 和 何 还 即 几 既 看 据 距 靠 啦 了 另 么 每 们 嘛 拿 哪 那 您 凭 且 却 让 仍 啥 如 若 使 谁 虽 随 同 所 她 哇 嗡 往 哪 些 向 沿 哟 用 于 咱 则 怎 曾 至 致 着 诸 自'\n",
    "#stop_ori='我 一 不 你 把 了 是 来 在 他 的 有 将 见 人 与 得 要 到 听 那 又 为 上 这 三 只 好 二 说 无 家 也'\n",
    "frwords=codecs.decode(stop_ori,'utf-8')\n",
    "stoplist=set(frwords.split())\n",
    "stoplist_ori=set(stop_ori.split())#not useful now\n",
    "\n",
    "#corpus_path = 'sqbs7_all_docs'\n",
    "corpus_path = 'naming_sqbs_pl'\n",
    "filenames=[os.path.join(corpus_path, fn) for fn in sorted(os.listdir(corpus_path))]\n",
    "if 'naming_sqbs_pl/.DS_Store' in filenames:\n",
    "    filenames.remove('sqbs7_all_docs/.DS_Store')\n",
    "\n",
    "\n",
    "\n",
    "pat=re.compile(r'(?u)\\b\\w+\\b',re.UNICODE )\n",
    "vectorizer = TfidfVectorizer(input='filename',stop_words=stoplist,token_pattern=pat) \n",
    "dtm = vectorizer.fit_transform(filenames)  # a sparse matrix \n",
    "vocab_list = vectorizer.get_feature_names()\n",
    "#dtm = dtm.toarray()  # convert to a regular array \n"
   ]
  },
  {
   "cell_type": "code",
   "execution_count": null,
   "metadata": {
    "collapsed": true
   },
   "outputs": [],
   "source": []
  },
  {
   "cell_type": "code",
   "execution_count": null,
   "metadata": {
    "collapsed": true
   },
   "outputs": [],
   "source": []
  },
  {
   "cell_type": "code",
   "execution_count": 38,
   "metadata": {
    "collapsed": false
   },
   "outputs": [
    {
     "data": {
      "text/plain": [
       "25081"
      ]
     },
     "execution_count": 38,
     "metadata": {},
     "output_type": "execute_result"
    }
   ],
   "source": [
    "len(vocab_list)"
   ]
  },
  {
   "cell_type": "code",
   "execution_count": null,
   "metadata": {
    "collapsed": true
   },
   "outputs": [],
   "source": []
  },
  {
   "cell_type": "code",
   "execution_count": null,
   "metadata": {
    "collapsed": true
   },
   "outputs": [],
   "source": []
  },
  {
   "cell_type": "code",
   "execution_count": 39,
   "metadata": {
    "collapsed": true
   },
   "outputs": [],
   "source": [
    "count=0\n",
    "for i in vocab_list:\n",
    "    if len(i)==1:\n",
    "        count+=1\n",
    "print count"
   ]
  },
  {
   "cell_type": "code",
   "execution_count": null,
   "metadata": {
    "collapsed": true
   },
   "outputs": [],
   "source": []
  },
  {
   "cell_type": "code",
   "execution_count": null,
   "metadata": {
    "collapsed": true
   },
   "outputs": [],
   "source": []
  },
  {
   "cell_type": "code",
   "execution_count": null,
   "metadata": {
    "collapsed": true
   },
   "outputs": [],
   "source": []
  },
  {
   "cell_type": "code",
   "execution_count": null,
   "metadata": {
    "collapsed": true
   },
   "outputs": [],
   "source": []
  },
  {
   "cell_type": "code",
   "execution_count": null,
   "metadata": {
    "collapsed": true
   },
   "outputs": [],
   "source": []
  },
  {
   "cell_type": "code",
   "execution_count": null,
   "metadata": {
    "collapsed": true
   },
   "outputs": [],
   "source": []
  },
  {
   "cell_type": "code",
   "execution_count": null,
   "metadata": {
    "collapsed": true
   },
   "outputs": [],
   "source": []
  },
  {
   "cell_type": "code",
   "execution_count": null,
   "metadata": {
    "collapsed": true
   },
   "outputs": [],
   "source": []
  },
  {
   "cell_type": "code",
   "execution_count": 5,
   "metadata": {
    "collapsed": false
   },
   "outputs": [],
   "source": [
    "dtma = dtm.toarray() \n",
    "from __future__ import division\n",
    "a=np.count_nonzero(dtma)\n",
    "b=len(dtma)*len(vocab_list)\n",
    "c=a/b"
   ]
  },
  {
   "cell_type": "code",
   "execution_count": null,
   "metadata": {
    "collapsed": true
   },
   "outputs": [],
   "source": []
  },
  {
   "cell_type": "code",
   "execution_count": null,
   "metadata": {
    "collapsed": true
   },
   "outputs": [],
   "source": []
  },
  {
   "cell_type": "code",
   "execution_count": null,
   "metadata": {
    "collapsed": true
   },
   "outputs": [],
   "source": []
  },
  {
   "cell_type": "code",
   "execution_count": 6,
   "metadata": {
    "collapsed": true
   },
   "outputs": [],
   "source": [
    "#you can also use cosine similarity here. we'll plot both using tf-idf and using count."
   ]
  },
  {
   "cell_type": "markdown",
   "metadata": {},
   "source": [
    "# clustering"
   ]
  },
  {
   "cell_type": "code",
   "execution_count": 7,
   "metadata": {
    "collapsed": false
   },
   "outputs": [
    {
     "data": {
      "text/plain": [
       "1429"
      ]
     },
     "execution_count": 7,
     "metadata": {},
     "output_type": "execute_result"
    }
   ],
   "source": [
    "len(filenames)"
   ]
  },
  {
   "cell_type": "code",
   "execution_count": null,
   "metadata": {
    "collapsed": true
   },
   "outputs": [],
   "source": []
  },
  {
   "cell_type": "code",
   "execution_count": null,
   "metadata": {
    "collapsed": true
   },
   "outputs": [],
   "source": []
  },
  {
   "cell_type": "code",
   "execution_count": 8,
   "metadata": {
    "collapsed": true
   },
   "outputs": [],
   "source": [
    "#notice that if you plot, it will be based on distance and MDS. clustering doesn't generate \n",
    "# a plot. "
   ]
  },
  {
   "cell_type": "code",
   "execution_count": 9,
   "metadata": {
    "collapsed": true
   },
   "outputs": [],
   "source": [
    "from sklearn.cluster import KMeans\n",
    "\n",
    "num_clusters = 7\n",
    "\n",
    "km = KMeans(n_clusters=num_clusters)\n",
    "\n",
    "%time km.fit(dtm)\n",
    "\n",
    "clusters = km.labels_.tolist()"
   ]
  },
  {
   "cell_type": "code",
   "execution_count": 10,
   "metadata": {
    "collapsed": false
   },
   "outputs": [
    {
     "data": {
      "text/plain": [
       "1429"
      ]
     },
     "execution_count": 10,
     "metadata": {},
     "output_type": "execute_result"
    }
   ],
   "source": [
    "len(clusters) #it's a list."
   ]
  },
  {
   "cell_type": "code",
   "execution_count": null,
   "metadata": {
    "collapsed": true
   },
   "outputs": [],
   "source": []
  },
  {
   "cell_type": "code",
   "execution_count": 11,
   "metadata": {
    "collapsed": false
   },
   "outputs": [],
   "source": [
    "#print to kernal \n",
    "for i in range(len(filenames)):\n",
    "    print i,filenames[i],\"\\n\""
   ]
  },
  {
   "cell_type": "code",
   "execution_count": 12,
   "metadata": {
    "collapsed": true
   },
   "outputs": [],
   "source": [
    "ehyuanb=['ehyuanb']*163\n",
    "ehmb=['ehmb']*(247-163+1)\n",
    "ehyaob=['ehyaob']*(407-248+1)\n",
    "xpyuanb=['xpyuanb']*(690-408+1)\n",
    "xpkb=['xpkb']*(923-691+1)\n",
    "xpmb=['xpmb']*(1048-924+1)\n",
    "xpyaob=['xpyaob']*(1428-1049+1)"
   ]
  },
  {
   "cell_type": "code",
   "execution_count": 13,
   "metadata": {
    "collapsed": false
   },
   "outputs": [
    {
     "data": {
      "text/plain": [
       "[(1, 3), (2, 4)]"
      ]
     },
     "execution_count": 13,
     "metadata": {},
     "output_type": "execute_result"
    }
   ],
   "source": [
    "zip([1,2],[3,4])"
   ]
  },
  {
   "cell_type": "code",
   "execution_count": 29,
   "metadata": {
    "collapsed": true
   },
   "outputs": [],
   "source": [
    "import os\n",
    "\n",
    "root_path = '/Users/zangsir/Downloads/classify-text-master/dataset/'\n",
    "folders = ['ehyuanb','ehmb','ehyaob','xpyuanb','xpkb','xpmb','xpyaob']\n",
    "for folder in folders:\n",
    "    os.mkdir(os.path.join(root_path,folder))"
   ]
  },
  {
   "cell_type": "code",
   "execution_count": 30,
   "metadata": {
    "collapsed": true
   },
   "outputs": [],
   "source": [
    "print ' \\xe9\\xaa\\x82 \\xe4\\xb8\\x81\\xe5\\xa5\\x89 \\xe5\\x92\\x8c \\xe5\\xbe\\x90\\xe7\\x9b\\x9b \\xe5\\xa5\\xbd \\xe6\\xb2\\xa1 \\xe6\\x9d\\xa5\\xe7\\x94\\xb1   \\xe5\\x86\\x8d \\xe5\\xa4\\x9a \\xe8\\xa8\\x80 \\xe5\\x8f\\xab \\xe5\\x9b\\x9b \\xe5\\xbc\\x9f \\xe6\\x89\\xbe\\xe5\\xb0\\x94\\xe5\\xa4\\xb4\\xe9\\xa6\\x96   \\xe7\\xae\\xa1 \\xe5\\x8f\\xab \\xe4\\xbd\\xa0 \\xe4\\xb8\\x80\\xe4\\xb8\\xaa\\xe4\\xb8\\xaa \\xe5\\x91\\xbd\\xe4\\xb8\\xa7 \\xe4\\xb9\\x9d\\xe6\\xb3\\x89\\n \\xe8\\xb5\\xb5\\xe5\\xad\\x90\\xe9\\xbe\\x99 \\xe5\\x9c\\xa8 \\xe4\\xb8\\x80\\xe6\\x97\\x81 \\xe5\\xa8\\x81\\xe9\\xa3\\x8e \\xe6\\x8a\\x96\\xe6\\x93\\x9e   \\xe5\\x86\\x8d \\xe5\\xa4\\x9a \\xe8\\xa8\\x80 \\xe7\\xae\\xa1 \\xe5\\x8f\\x96\\xe5\\xb0\\x94\\xe9\\xa1\\xb9 \\xe4\\xb8\\x8a \\xe4\\xba\\xba\\xe5\\xa4\\xb4\\n \\xe5\\xb8\\x90 \\xe4\\xb8\\xad \\xe5\\xa5\\x89 \\xe4\\xba\\x86 \\xe9\\x83\\xbd\\xe7\\x9d\\xa3\\xe4\\xbb\\xa4   \\xe8\\xbf\\xbd\\xe8\\xb5\\xb6 \\xe5\\x88\\x98\\xe5\\xa4\\x87 \\xe8\\xa6\\x81 \\xe5\\xb0\\x8f\\xe5\\xbf\\x83\\n'"
   ]
  },
  {
   "cell_type": "code",
   "execution_count": null,
   "metadata": {
    "collapsed": true
   },
   "outputs": [],
   "source": []
  },
  {
   "cell_type": "code",
   "execution_count": 14,
   "metadata": {
    "collapsed": true
   },
   "outputs": [],
   "source": [
    "classes=ehyuanb+ehmb+ehyaob+xpyuanb+xpkb+xpmb+xpyaob"
   ]
  },
  {
   "cell_type": "code",
   "execution_count": 15,
   "metadata": {
    "collapsed": false
   },
   "outputs": [
    {
     "data": {
      "text/plain": [
       "1429"
      ]
     },
     "execution_count": 15,
     "metadata": {},
     "output_type": "execute_result"
    }
   ],
   "source": [
    "len(classes)"
   ]
  },
  {
   "cell_type": "code",
   "execution_count": null,
   "metadata": {
    "collapsed": true
   },
   "outputs": [],
   "source": []
  },
  {
   "cell_type": "code",
   "execution_count": 16,
   "metadata": {
    "collapsed": false
   },
   "outputs": [],
   "source": [
    "#put the count into a dict\n",
    "\n",
    "from collections import defaultdict\n",
    "\n",
    "\n",
    "clust=defaultdict(dict)\n",
    "\n",
    "for pair in zip(clusters,classes):\n",
    "    key_clust=pair[0]\n",
    "    key_class=pair[1]\n",
    "    if clust[key_clust]:\n",
    "        if not key_class in clust[key_clust]:\n",
    "            clust[key_clust][key_class]=1\n",
    "        else:\n",
    "            clust[key_clust][key_class]+=1\n",
    "    else:\n",
    "        clust[key_clust]={key_class:1}"
   ]
  },
  {
   "cell_type": "code",
   "execution_count": 17,
   "metadata": {
    "collapsed": false
   },
   "outputs": [
    {
     "data": {
      "text/plain": [
       "defaultdict(dict,\n",
       "            {0: {'ehmb': 4,\n",
       "              'ehyaob': 5,\n",
       "              'ehyuanb': 2,\n",
       "              'xpkb': 9,\n",
       "              'xpmb': 11,\n",
       "              'xpyaob': 5,\n",
       "              'xpyuanb': 11},\n",
       "             1: {'ehmb': 12,\n",
       "              'ehyaob': 16,\n",
       "              'ehyuanb': 13,\n",
       "              'xpkb': 23,\n",
       "              'xpmb': 7,\n",
       "              'xpyaob': 34,\n",
       "              'xpyuanb': 23},\n",
       "             2: {'ehmb': 2,\n",
       "              'ehyaob': 43,\n",
       "              'ehyuanb': 31,\n",
       "              'xpkb': 32,\n",
       "              'xpmb': 7,\n",
       "              'xpyaob': 104,\n",
       "              'xpyuanb': 32},\n",
       "             3: {'ehmb': 54,\n",
       "              'ehyaob': 61,\n",
       "              'ehyuanb': 90,\n",
       "              'xpkb': 103,\n",
       "              'xpmb': 74,\n",
       "              'xpyaob': 150,\n",
       "              'xpyuanb': 157},\n",
       "             4: {'ehmb': 5,\n",
       "              'ehyaob': 16,\n",
       "              'ehyuanb': 13,\n",
       "              'xpkb': 11,\n",
       "              'xpmb': 9,\n",
       "              'xpyaob': 13,\n",
       "              'xpyuanb': 10},\n",
       "             5: {'ehmb': 2,\n",
       "              'ehyaob': 8,\n",
       "              'ehyuanb': 4,\n",
       "              'xpkb': 38,\n",
       "              'xpmb': 11,\n",
       "              'xpyaob': 49,\n",
       "              'xpyuanb': 32},\n",
       "             6: {'ehmb': 6,\n",
       "              'ehyaob': 11,\n",
       "              'ehyuanb': 10,\n",
       "              'xpkb': 17,\n",
       "              'xpmb': 6,\n",
       "              'xpyaob': 25,\n",
       "              'xpyuanb': 18}})"
      ]
     },
     "execution_count": 17,
     "metadata": {},
     "output_type": "execute_result"
    }
   ],
   "source": [
    "clust"
   ]
  },
  {
   "cell_type": "code",
   "execution_count": 25,
   "metadata": {
    "collapsed": false
   },
   "outputs": [
    {
     "data": {
      "text/html": [
       "<div>\n",
       "<table border=\"1\" class=\"dataframe\">\n",
       "  <thead>\n",
       "    <tr style=\"text-align: right;\">\n",
       "      <th></th>\n",
       "      <th>xpyuanb</th>\n",
       "      <th>ehyaob</th>\n",
       "      <th>xpmb</th>\n",
       "      <th>ehyuanb</th>\n",
       "      <th>ehmb</th>\n",
       "      <th>xpkb</th>\n",
       "      <th>xpyaob</th>\n",
       "    </tr>\n",
       "  </thead>\n",
       "  <tbody>\n",
       "    <tr>\n",
       "      <th>0</th>\n",
       "      <td>11</td>\n",
       "      <td>5</td>\n",
       "      <td>11</td>\n",
       "      <td>2</td>\n",
       "      <td>4</td>\n",
       "      <td>9</td>\n",
       "      <td>5</td>\n",
       "    </tr>\n",
       "    <tr>\n",
       "      <th>1</th>\n",
       "      <td>23</td>\n",
       "      <td>16</td>\n",
       "      <td>7</td>\n",
       "      <td>13</td>\n",
       "      <td>12</td>\n",
       "      <td>23</td>\n",
       "      <td>34</td>\n",
       "    </tr>\n",
       "    <tr>\n",
       "      <th>2</th>\n",
       "      <td>32</td>\n",
       "      <td>43</td>\n",
       "      <td>7</td>\n",
       "      <td>31</td>\n",
       "      <td>2</td>\n",
       "      <td>32</td>\n",
       "      <td>104</td>\n",
       "    </tr>\n",
       "    <tr>\n",
       "      <th>3</th>\n",
       "      <td>157</td>\n",
       "      <td>61</td>\n",
       "      <td>74</td>\n",
       "      <td>90</td>\n",
       "      <td>54</td>\n",
       "      <td>103</td>\n",
       "      <td>150</td>\n",
       "    </tr>\n",
       "    <tr>\n",
       "      <th>4</th>\n",
       "      <td>10</td>\n",
       "      <td>16</td>\n",
       "      <td>9</td>\n",
       "      <td>13</td>\n",
       "      <td>5</td>\n",
       "      <td>11</td>\n",
       "      <td>13</td>\n",
       "    </tr>\n",
       "    <tr>\n",
       "      <th>5</th>\n",
       "      <td>32</td>\n",
       "      <td>8</td>\n",
       "      <td>11</td>\n",
       "      <td>4</td>\n",
       "      <td>2</td>\n",
       "      <td>38</td>\n",
       "      <td>49</td>\n",
       "    </tr>\n",
       "    <tr>\n",
       "      <th>6</th>\n",
       "      <td>18</td>\n",
       "      <td>11</td>\n",
       "      <td>6</td>\n",
       "      <td>10</td>\n",
       "      <td>6</td>\n",
       "      <td>17</td>\n",
       "      <td>25</td>\n",
       "    </tr>\n",
       "  </tbody>\n",
       "</table>\n",
       "</div>"
      ],
      "text/plain": [
       "   xpyuanb  ehyaob  xpmb  ehyuanb  ehmb  xpkb  xpyaob\n",
       "0       11       5    11        2     4     9       5\n",
       "1       23      16     7       13    12    23      34\n",
       "2       32      43     7       31     2    32     104\n",
       "3      157      61    74       90    54   103     150\n",
       "4       10      16     9       13     5    11      13\n",
       "5       32       8    11        4     2    38      49\n",
       "6       18      11     6       10     6    17      25"
      ]
     },
     "execution_count": 25,
     "metadata": {},
     "output_type": "execute_result"
    }
   ],
   "source": [
    "import pandas as pd\n",
    "\n",
    "df = pd.DataFrame.from_dict(clust,orient='index')\n",
    "#you need to set the names for the columns\n",
    "df"
   ]
  },
  {
   "cell_type": "code",
   "execution_count": null,
   "metadata": {
    "collapsed": true
   },
   "outputs": [],
   "source": []
  },
  {
   "cell_type": "code",
   "execution_count": null,
   "metadata": {
    "collapsed": true
   },
   "outputs": [],
   "source": []
  },
  {
   "cell_type": "code",
   "execution_count": null,
   "metadata": {
    "collapsed": true
   },
   "outputs": [],
   "source": []
  },
  {
   "cell_type": "code",
   "execution_count": null,
   "metadata": {
    "collapsed": true
   },
   "outputs": [],
   "source": []
  },
  {
   "cell_type": "code",
   "execution_count": 19,
   "metadata": {
    "collapsed": true
   },
   "outputs": [],
   "source": [
    "%matplotlib inline\n",
    "import numpy as np\n",
    "import matplotlib.pyplot as plt\n",
    "import matplotlib\n",
    "import pandas as pd"
   ]
  },
  {
   "cell_type": "code",
   "execution_count": 26,
   "metadata": {
    "collapsed": false
   },
   "outputs": [
    {
     "data": {
      "image/png": "[encoded data removed]",
      "text/plain": [
       "<matplotlib.figure.Figure at 0x11baa4b10>"
      ]
     },
     "metadata": {},
     "output_type": "display_data"
    }
   ],
   "source": [
    "df.plot.bar(stacked=True);"
   ]
  },
  {
   "cell_type": "code",
   "execution_count": null,
   "metadata": {
    "collapsed": true
   },
   "outputs": [],
   "source": []
  },
  {
   "cell_type": "code",
   "execution_count": 27,
   "metadata": {
    "collapsed": false
   },
   "outputs": [
    {
     "data": {
      "image/png": "[encoded data removed]",
      "text/plain": [
       "<matplotlib.figure.Figure at 0x11bee1e90>"
      ]
     },
     "metadata": {},
     "output_type": "display_data"
    }
   ],
   "source": [
    "df.plot.bar();"
   ]
  },
  {
   "cell_type": "code",
   "execution_count": null,
   "metadata": {
    "collapsed": true
   },
   "outputs": [],
   "source": []
  },
  {
   "cell_type": "code",
   "execution_count": null,
   "metadata": {
    "collapsed": true
   },
   "outputs": [],
   "source": []
  },
  {
   "cell_type": "code",
   "execution_count": null,
   "metadata": {
    "collapsed": true
   },
   "outputs": [],
   "source": []
  },
  {
   "cell_type": "code",
   "execution_count": null,
   "metadata": {
    "collapsed": true
   },
   "outputs": [],
   "source": []
  },
  {
   "cell_type": "code",
   "execution_count": null,
   "metadata": {
    "collapsed": true
   },
   "outputs": [],
   "source": []
  },
  {
   "cell_type": "code",
   "execution_count": null,
   "metadata": {
    "collapsed": true
   },
   "outputs": [],
   "source": []
  },
  {
   "cell_type": "code",
   "execution_count": null,
   "metadata": {
    "collapsed": true
   },
   "outputs": [],
   "source": []
  },
  {
   "cell_type": "code",
   "execution_count": null,
   "metadata": {
    "collapsed": true
   },
   "outputs": [],
   "source": []
  },
  {
   "cell_type": "code",
   "execution_count": null,
   "metadata": {
    "collapsed": true
   },
   "outputs": [],
   "source": []
  },
  {
   "cell_type": "code",
   "execution_count": null,
   "metadata": {
    "collapsed": true
   },
   "outputs": [],
   "source": []
  },
  {
   "cell_type": "code",
   "execution_count": null,
   "metadata": {
    "collapsed": true
   },
   "outputs": [],
   "source": []
  }
 ],
 "metadata": {
  "kernelspec": {
   "display_name": "Python 2",
   "language": "python",
   "name": "python2"
  },
  "language_info": {
   "codemirror_mode": {
    "name": "ipython",
    "version": 2
   },
   "file_extension": ".py",
   "mimetype": "text/x-python",
   "name": "python",
   "nbconvert_exporter": "python",
   "pygments_lexer": "ipython2",
   "version": "2.7.11"
  }
 },
 "nbformat": 4,
 "nbformat_minor": 0
}
