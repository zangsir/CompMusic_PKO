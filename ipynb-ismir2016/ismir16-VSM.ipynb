{
 "cells": [
  {
   "cell_type": "markdown",
   "metadata": {},
   "source": [
    "# analysis after we built the data collection. now is Vector space"
   ]
  },
  {
   "cell_type": "code",
   "execution_count": null,
   "metadata": {
    "collapsed": true
   },
   "outputs": [],
   "source": []
  },
  {
   "cell_type": "code",
   "execution_count": 75,
   "metadata": {
    "collapsed": true
   },
   "outputs": [],
   "source": [
    "%matplotlib inline\n",
    "import codecs\n",
    "import re\n",
    "import os\n",
    "import matplotlib\n",
    "from os import listdir\n",
    "from os.path import isfile, join\n",
    "import numpy as np\n",
    "import matplotlib.pyplot as plt\n",
    "import numpy as np  # a conventional alias\n",
    "from sklearn.feature_extraction.text import CountVectorizer"
   ]
  },
  {
   "cell_type": "code",
   "execution_count": 36,
   "metadata": {
    "collapsed": true
   },
   "outputs": [],
   "source": [
    "#we need to see about the stopword list. \n"
   ]
  },
  {
   "cell_type": "code",
   "execution_count": 5,
   "metadata": {
    "collapsed": false
   },
   "outputs": [
    {
     "name": "stdout",
     "output_type": "stream",
     "text": [
      "set([u'\\u8981', u'\\u4e00', u'\\u7684', u'\\u5c06', u'\\u6709', u'\\u628a', u'\\u4e0d', u'\\u4e8c', u'\\u4e0e', u'\\u6211', u'\\u4e09', u'\\u5f97', u'\\u90a3', u'\\u5728', u'\\u4e86', u'\\u542c', u'\\u662f', u'\\u5230', u'\\u5bb6', u'\\u4eba', u'\\u89c1', u'\\u4e0a', u'\\u65e0', u'\\u53c8', u'\\u4ed6', u'\\u8fd9', u'\\u4e5f', u'\\u4f60', u'\\u4e3a', u'\\u6765', u'\\u53ea', u'\\u8bf4', u'\\u597d'])\n"
     ]
    }
   ],
   "source": [
    "print stoplist"
   ]
  },
  {
   "cell_type": "code",
   "execution_count": 8,
   "metadata": {
    "collapsed": false
   },
   "outputs": [
    {
     "name": "stdout",
     "output_type": "stream",
     "text": [
      "二黄原板.txt      二黄摇板.txt      西皮快板.txt      西皮摇板.txt\r\n",
      "二黄慢板.txt      西皮原板.txt      西皮慢板.txt\r\n"
     ]
    }
   ],
   "source": [
    "ls sqbs7_all_docs/"
   ]
  },
  {
   "cell_type": "code",
   "execution_count": 76,
   "metadata": {
    "collapsed": false
   },
   "outputs": [],
   "source": []
  },
  {
   "cell_type": "code",
   "execution_count": 78,
   "metadata": {
    "collapsed": false
   },
   "outputs": [
    {
     "name": "stdout",
     "output_type": "stream",
     "text": [
      "sqbs7_all_docs/二黄原板.txt\n",
      "sqbs7_all_docs/二黄慢板.txt\n",
      "sqbs7_all_docs/二黄摇板.txt\n",
      "sqbs7_all_docs/西皮原板.txt\n",
      "sqbs7_all_docs/西皮快板.txt\n",
      "sqbs7_all_docs/西皮慢板.txt\n",
      "sqbs7_all_docs/西皮摇板.txt\n"
     ]
    }
   ],
   "source": [
    "for i in filenames:print i"
   ]
  },
  {
   "cell_type": "code",
   "execution_count": 63,
   "metadata": {
    "collapsed": false
   },
   "outputs": [],
   "source": []
  },
  {
   "cell_type": "raw",
   "metadata": {},
   "source": [
    "#notice that we need to tweak the settings for countVectorizer for the need of unicode. here is some documentations:\n",
    "token_pattern : string\n",
    "Regular expression denoting what constitutes a “token”, only used if tokenize == ‘word’. \n",
    "The default regexp select tokens of 2 or more alphanumeric characters (punctuation is completely ignored and always treated as a token separator).\n",
    "\n",
    "\n",
    "tokenizer : callable or None (default)\n",
    "Override the string tokenization step while preserving the preprocessing and n-grams generation steps.\n",
    "\n"
   ]
  },
  {
   "cell_type": "code",
   "execution_count": null,
   "metadata": {
    "collapsed": true
   },
   "outputs": [],
   "source": []
  },
  {
   "cell_type": "code",
   "execution_count": 74,
   "metadata": {
    "collapsed": true
   },
   "outputs": [],
   "source": [
    "stop_ori='我 一 不 你 把 了 是 来 在 他 的 有 将 见 人 与 得 要 到 听 那 又 为 上 这 三 只 好 二 说 无 家 也'\n",
    "frwords=codecs.decode(stop_ori,'utf-8')\n",
    "stoplist=set(frwords.split())\n",
    "stoplist_ori=set(stop_ori.split())#not useful now\n",
    "\n",
    "corpus_path = 'sqbs7_all_docs'\n",
    "filenames=[os.path.join(corpus_path, fn) for fn in sorted(os.listdir(corpus_path))]\n",
    "if 'sqbs7_all_docs/.DS_Store' in filenames:\n",
    "    filenames.remove('sqbs7_all_docs/.DS_Store')\n",
    "\n",
    "\n",
    "\n",
    "pat=re.compile(r'(?u)\\b\\w+\\b',re.UNICODE )\n",
    "vectorizer = CountVectorizer(input='filename',stop_words=stoplist,token_pattern=pat) \n",
    "dtm = vectorizer.fit_transform(filenames)  # a sparse matrix \n",
    "vocab_list = vectorizer.get_feature_names()\n",
    "type(dtm)                                         \n",
    "dtm = dtm.toarray()  # convert to a regular array \n",
    "#note that vocab_list is a python list, vocab is a numpy array\n",
    "vocab = np.array(vocab_list)\n",
    "\n",
    "\n"
   ]
  },
  {
   "cell_type": "code",
   "execution_count": 109,
   "metadata": {
    "collapsed": false
   },
   "outputs": [],
   "source": [
    "#what is the top words? in each document\n",
    "def get_word_dist(i):\n",
    "    \"\"\"input is the index of the document, such as i=1 is the first document\"\"\"\n",
    "    fdist=[]\n",
    "    for word in vocab_list:\n",
    "        #print word\n",
    "        freq=dtm[i, vocab == word]\n",
    "        fdist.append((word,freq[0]))\n",
    "\n",
    "    rank=sorted(fdist, key=lambda x: x[1])[::-1]\n",
    "    return rank"
   ]
  },
  {
   "cell_type": "code",
   "execution_count": 110,
   "metadata": {
    "collapsed": false
   },
   "outputs": [
    {
     "name": "stdout",
     "output_type": "stream",
     "text": [
      "sqbs7_all_docs/二黄原板.txt\n",
      "想 64\n",
      "叫 64\n",
      "里 58\n",
      "去 50\n",
      "此 45\n",
      "娘 43\n",
      "臣 42\n",
      "小 41\n",
      "都 40\n",
      "本 40\n",
      "孤 38\n",
      "但愿 38\n",
      "老 37\n",
      "言 36\n",
      "儿 36\n",
      "下 35\n",
      "能 34\n",
      "声 34\n",
      "个 34\n",
      "难 33\n",
      "sqbs7_all_docs/二黄慢板.txt\n",
      "谁 16\n",
      "臣 16\n",
      "恨 16\n",
      "坐 16\n",
      "起 15\n",
      "老 15\n",
      "想 14\n",
      "个 13\n",
      "里 12\n",
      "下 12\n",
      "难 11\n",
      "江山 11\n",
      "曾 11\n",
      "命 11\n",
      "可怜 11\n",
      "去 11\n",
      "中 11\n",
      "知 10\n",
      "看 10\n",
      "此 10\n",
      "sqbs7_all_docs/二黄摇板.txt\n",
      "去 70\n",
      "叫 63\n",
      "命 54\n",
      "里 46\n",
      "两 46\n",
      "心 43\n",
      "小 43\n",
      "老 42\n",
      "泪 42\n",
      "儿 41\n",
      "定 40\n",
      "进 39\n",
      "问 37\n",
      "打 36\n",
      "但愿 36\n",
      "下 36\n",
      "此 35\n",
      "分明 34\n",
      "声 33\n",
      "再 32\n",
      "sqbs7_all_docs/西皮原板.txt\n",
      "叫 99\n",
      "里 82\n",
      "去 82\n",
      "看 56\n",
      "声 55\n",
      "再 51\n",
      "个 49\n",
      "两 47\n",
      "问 46\n",
      "恨 46\n",
      "言 45\n",
      "分明 44\n",
      "中 44\n",
      "心 43\n",
      "小 43\n",
      "此 42\n",
      "下 42\n",
      "众 41\n",
      "日 40\n",
      "似 39\n",
      "sqbs7_all_docs/西皮快板.txt\n",
      "个 91\n",
      "去 84\n",
      "叫 78\n",
      "孤 72\n",
      "王 68\n",
      "言 67\n",
      "就 62\n",
      "本 56\n",
      "下 56\n",
      "若 53\n",
      "两 51\n",
      "什么 50\n",
      "老 49\n",
      "难 48\n",
      "小 48\n",
      "再 48\n",
      "斩 47\n",
      "心 47\n",
      "话 46\n",
      "讲 44\n",
      "sqbs7_all_docs/西皮慢板.txt\n",
      "里 40\n",
      "叫 32\n",
      "去 32\n",
      "奴 31\n",
      "吾 23\n",
      "个 22\n",
      "用 21\n",
      "本 20\n",
      "事 20\n",
      "老 19\n",
      "才 19\n",
      "想 19\n",
      "都 18\n",
      "言 18\n",
      "自 18\n",
      "坐 18\n",
      "命 18\n",
      "两 18\n",
      "下 18\n",
      "细 17\n",
      "sqbs7_all_docs/西皮摇板.txt\n",
      "去 258\n",
      "叫 245\n",
      "此 158\n",
      "且 144\n",
      "看 140\n",
      "心 137\n",
      "命 134\n",
      "难 133\n",
      "里 126\n",
      "言 126\n",
      "两 126\n",
      "再 125\n",
      "中 125\n",
      "进 118\n",
      "问 117\n",
      "个 116\n",
      "下 112\n",
      "今日 111\n",
      "事 111\n",
      "孤 109\n"
     ]
    }
   ],
   "source": [
    "for i in range(7):\n",
    "    print filenames[i]\n",
    "    rank=get_word_dist(i)\n",
    "    for words in rank[:20]:\n",
    "        print words[0],words[1]"
   ]
  },
  {
   "cell_type": "code",
   "execution_count": 111,
   "metadata": {
    "collapsed": true
   },
   "outputs": [],
   "source": [
    "#after observing these top words from individual files, we need to add some entries to the stop list. Let's first see\n",
    "#what if we take all words and see the top words\n",
    "\n",
    "all_dtm=np.sum(dtm,axis=0)\n",
    "def get_word_dist_all():\n",
    "    \"\"\"input is the index of the document, such as i=1 is the first document\"\"\"\n",
    "    fdist=[]\n",
    "    for word in vocab_list:\n",
    "        #print word\n",
    "        freq=all_dtm[vocab == word]\n",
    "        fdist.append((word,freq[0]))\n",
    "\n",
    "    rank=sorted(fdist, key=lambda x: x[1])[::-1]\n",
    "    return rank"
   ]
  },
  {
   "cell_type": "code",
   "execution_count": 133,
   "metadata": {
    "collapsed": false
   },
   "outputs": [
    {
     "name": "stdout",
     "output_type": "stream",
     "text": [
      "叫 587 去 587 里 400 个 351 此 347 言 326 两 324 看 317 心 311 下 311 孤 308 命 308 小 301 再 293 中 292 难 288 声 287 老 284 想 275 问 263 且 261 本 260 事 256 能 245 话 240 进 239 分明 238 王 229 儿 225 大 221 臣 219 但愿 219 谁 217 今日 214 怎 213 出 213 恨 212 就 212 和 211 前 211 她 205 贼 204 似 204 定 201 才 200 哪 199 泪 195 日 191 太 191 朝 190\n"
     ]
    }
   ],
   "source": [
    "\n",
    "rank=get_word_dist_all()\n",
    "for words in rank[:50]:\n",
    "    print words[0],words[1],"
   ]
  },
  {
   "cell_type": "code",
   "execution_count": null,
   "metadata": {
    "collapsed": true
   },
   "outputs": [],
   "source": [
    "#it seems like these are all pretty meaningless. The thing is that either this would mean we want more in the stop list,\n",
    "#or this says something about the quality of segmentation. but what if we used all one character words tokenization? \n",
    "#worse? hard to imagine.\n",
    "\n",
    "#since there are other devices like tf-idf weighting, we're going to leave words in for now. top words in frequency \n",
    "#doesn't mean topic words. "
   ]
  },
  {
   "cell_type": "markdown",
   "metadata": {},
   "source": [
    "## cosine similarity between 7 docs"
   ]
  },
  {
   "cell_type": "code",
   "execution_count": 134,
   "metadata": {
    "collapsed": false
   },
   "outputs": [
    {
     "data": {
      "text/plain": [
       "array([[ 0.  ,  0.28,  0.2 ,  0.19,  0.22,  0.24,  0.19],\n",
       "       [ 0.28,  0.  ,  0.36,  0.32,  0.35,  0.33,  0.35],\n",
       "       [ 0.2 ,  0.36,  0.  ,  0.21,  0.22,  0.29,  0.13],\n",
       "       [ 0.19,  0.32,  0.21, -0.  ,  0.18,  0.2 ,  0.13],\n",
       "       [ 0.22,  0.35,  0.22,  0.18,  0.  ,  0.26,  0.14],\n",
       "       [ 0.24,  0.33,  0.29,  0.2 ,  0.26,  0.  ,  0.24],\n",
       "       [ 0.19,  0.35,  0.13,  0.13,  0.14,  0.24, -0.  ]])"
      ]
     },
     "execution_count": 134,
     "metadata": {},
     "output_type": "execute_result"
    }
   ],
   "source": [
    "In [24]: from sklearn.metrics.pairwise import cosine_similarity\n",
    "\n",
    "In [25]: dist = 1 - cosine_similarity(dtm)\n",
    "\n",
    "In [26]: np.round(dist, 2)"
   ]
  },
  {
   "cell_type": "code",
   "execution_count": 136,
   "metadata": {
    "collapsed": false
   },
   "outputs": [],
   "source": [
    "\n",
    "In [34]: import os  # for os.path.basename\n",
    "\n",
    "In [35]: import matplotlib.pyplot as plt\n",
    "\n",
    "In [36]: from sklearn.manifold import MDS\n",
    "\n",
    "# two components as we're plotting points in a two-dimensional plane\n",
    "# \"precomputed\" because we provide a distance matrix\n",
    "# we will also specify `random_state` so the plot is reproducible.\n",
    "In [37]: mds = MDS(n_components=2, dissimilarity=\"precomputed\", random_state=1)\n",
    "\n",
    "In [38]: pos = mds.fit_transform(dist)  # shape (n_components, n_samples)"
   ]
  },
  {
   "cell_type": "code",
   "execution_count": 137,
   "metadata": {
    "collapsed": true
   },
   "outputs": [],
   "source": [
    "In [39]: xs, ys = pos[:, 0], pos[:, 1]\n",
    "In [40]: names = [os.path.basename(fn).replace('.txt', '') for fn in filenames]"
   ]
  },
  {
   "cell_type": "code",
   "execution_count": 139,
   "metadata": {
    "collapsed": false
   },
   "outputs": [
    {
     "name": "stdout",
     "output_type": "stream",
     "text": [
      "二黄原板\n",
      "二黄慢板\n",
      "二黄摇板\n",
      "西皮原板\n",
      "西皮快板\n",
      "西皮慢板\n",
      "西皮摇板\n"
     ]
    }
   ],
   "source": [
    "for i in names:print i"
   ]
  },
  {
   "cell_type": "code",
   "execution_count": 153,
   "metadata": {
    "collapsed": true
   },
   "outputs": [],
   "source": [
    "import sys\n",
    "reload(sys)\n",
    "sys.setdefaultencoding(\"utf-8\")"
   ]
  },
  {
   "cell_type": "code",
   "execution_count": 163,
   "metadata": {
    "collapsed": false
   },
   "outputs": [
    {
     "data": {
      "text/plain": [
       "['\\xe4\\xba\\x8c\\xe9\\xbb\\x84\\xe5\\x8e\\x9f\\xe6\\x9d\\xbf',\n",
       " '\\xe4\\xba\\x8c\\xe9\\xbb\\x84\\xe6\\x85\\xa2\\xe6\\x9d\\xbf',\n",
       " '\\xe4\\xba\\x8c\\xe9\\xbb\\x84\\xe6\\x91\\x87\\xe6\\x9d\\xbf',\n",
       " '\\xe8\\xa5\\xbf\\xe7\\x9a\\xae\\xe5\\x8e\\x9f\\xe6\\x9d\\xbf',\n",
       " '\\xe8\\xa5\\xbf\\xe7\\x9a\\xae\\xe5\\xbf\\xab\\xe6\\x9d\\xbf',\n",
       " '\\xe8\\xa5\\xbf\\xe7\\x9a\\xae\\xe6\\x85\\xa2\\xe6\\x9d\\xbf',\n",
       " '\\xe8\\xa5\\xbf\\xe7\\x9a\\xae\\xe6\\x91\\x87\\xe6\\x9d\\xbf']"
      ]
     },
     "execution_count": 163,
     "metadata": {},
     "output_type": "execute_result"
    }
   ],
   "source": [
    "names"
   ]
  },
  {
   "cell_type": "markdown",
   "metadata": {},
   "source": [
    "## This plotting works out in the command line. see script"
   ]
  },
  {
   "cell_type": "code",
   "execution_count": null,
   "metadata": {
    "collapsed": true
   },
   "outputs": [],
   "source": []
  },
  {
   "cell_type": "code",
   "execution_count": 168,
   "metadata": {
    "collapsed": false
   },
   "outputs": [
    {
     "data": {
      "image/png": "[encoded data removed]",
      "text/plain": [
       "<matplotlib.figure.Figure at 0x10aaff910>"
      ]
     },
     "metadata": {},
     "output_type": "display_data"
    }
   ],
   "source": [
    "# -*- coding: utf-8 -*-\n",
    "\n",
    "from __future__ import unicode_literals\n",
    "\n",
    "for x, y, name in zip(xs, ys, names):\n",
    "    \n",
    "    if '原板' in name:\n",
    "        color = 'orange'\n",
    "        print 'uyes'\n",
    "    elif '慢板' in name:\n",
    "        color = 'skyblue'\n",
    "    elif '摇板' in name:\n",
    "        color = 'red'\n",
    "    elif '快板' in name:\n",
    "        color = 'yellow'\n",
    "        \n",
    "    plt.scatter(x, y, c=color)\n",
    "    nameu=codecs.decode(name,'utf-8')\n",
    "    print name\n",
    "    plt.text(x, y, name) \n",
    "\n"
   ]
  },
  {
   "cell_type": "code",
   "execution_count": null,
   "metadata": {
    "collapsed": true
   },
   "outputs": [],
   "source": []
  },
  {
   "cell_type": "raw",
   "metadata": {},
   "source": [
    "print len(vocab_list)\n",
    "dtm.get_shape()\n",
    "#demo test\n",
    "print u'\\u4e0a' in vocab_list\n",
    "print codecs.decode('一些','utf-8') in vocab_list\n",
    "#vocab list has a number of vocabs of variable length, 1,2,3,4,...here are some len=1 words:\n",
    "for i in vocab_list[:1000]:\n",
    "    if len(i)==1:\n",
    "        print i,"
   ]
  },
  {
   "cell_type": "markdown",
   "metadata": {},
   "source": [
    "# doing NMF "
   ]
  }
 ],
 "metadata": {
  "kernelspec": {
   "display_name": "Python 2",
   "language": "python",
   "name": "python2"
  },
  "language_info": {
   "codemirror_mode": {
    "name": "ipython",
    "version": 2
   },
   "file_extension": ".py",
   "mimetype": "text/x-python",
   "name": "python",
   "nbconvert_exporter": "python",
   "pygments_lexer": "ipython2",
   "version": "2.7.11"
  }
 },
 "nbformat": 4,
 "nbformat_minor": 0
}
